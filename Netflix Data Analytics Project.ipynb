{
 "cells": [
  {
   "cell_type": "markdown",
   "id": "6bbbb012",
   "metadata": {},
   "source": [
    "## NETFLIX DATA ANALYSIS "
   ]
  },
  {
   "cell_type": "markdown",
   "id": "94adcf01",
   "metadata": {},
   "source": [
    "### By analyzing the Netflix dataset of TV shows and movies available,Netflix can make data-driven decisions on:\n",
    "\n",
    "1.Content strategy\n",
    "\n",
    "2.Personalized recommendations for users\n",
    "\n",
    "3.Regional content preferences\n",
    "\n",
    "4.Pricing and subscription growth strategies\n",
    "\n",
    "This analysis will ultimately help Netflix stay competitive, improve user experience, and expand its global footprint"
   ]
  },
  {
   "cell_type": "markdown",
   "id": "d2992fcb",
   "metadata": {},
   "source": [
    "### Importing Libraries"
   ]
  },
  {
   "cell_type": "code",
   "execution_count": 1,
   "id": "dd6d313b",
   "metadata": {},
   "outputs": [],
   "source": [
    "import numpy as np\n",
    "import pandas as pd\n",
    "import matplotlib.pyplot as plt\n",
    "import seaborn as sns"
   ]
  },
  {
   "cell_type": "markdown",
   "id": "8384d6a6",
   "metadata": {},
   "source": [
    "### Reading DataSet"
   ]
  },
  {
   "cell_type": "code",
   "execution_count": 2,
   "id": "2e5e59d6",
   "metadata": {},
   "outputs": [],
   "source": [
    "df = pd.read_csv(r\"C:\\Users\\Admin\\Documents\\netflix_movies (1).csv\")"
   ]
  },
  {
   "cell_type": "markdown",
   "id": "ddc77c82",
   "metadata": {},
   "source": [
    "### Inspecting and Understanding Data"
   ]
  },
  {
   "cell_type": "code",
   "execution_count": 3,
   "id": "9b0ac495",
   "metadata": {},
   "outputs": [
    {
     "data": {
      "text/html": [
       "<div>\n",
       "<style scoped>\n",
       "    .dataframe tbody tr th:only-of-type {\n",
       "        vertical-align: middle;\n",
       "    }\n",
       "\n",
       "    .dataframe tbody tr th {\n",
       "        vertical-align: top;\n",
       "    }\n",
       "\n",
       "    .dataframe thead th {\n",
       "        text-align: right;\n",
       "    }\n",
       "</style>\n",
       "<table border=\"1\" class=\"dataframe\">\n",
       "  <thead>\n",
       "    <tr style=\"text-align: right;\">\n",
       "      <th></th>\n",
       "      <th>show_id</th>\n",
       "      <th>type</th>\n",
       "      <th>title</th>\n",
       "      <th>director</th>\n",
       "      <th>cast</th>\n",
       "      <th>country</th>\n",
       "      <th>date_added</th>\n",
       "      <th>release_year</th>\n",
       "      <th>rating</th>\n",
       "      <th>duration</th>\n",
       "      <th>listed_in</th>\n",
       "      <th>description</th>\n",
       "    </tr>\n",
       "  </thead>\n",
       "  <tbody>\n",
       "    <tr>\n",
       "      <th>0</th>\n",
       "      <td>s1</td>\n",
       "      <td>Movie</td>\n",
       "      <td>Dick Johnson Is Dead</td>\n",
       "      <td>Kirsten Johnson</td>\n",
       "      <td>NaN</td>\n",
       "      <td>United States</td>\n",
       "      <td>September 25, 2021</td>\n",
       "      <td>2020</td>\n",
       "      <td>PG-13</td>\n",
       "      <td>90 min</td>\n",
       "      <td>Documentaries</td>\n",
       "      <td>As her father nears the end of his life, filmm...</td>\n",
       "    </tr>\n",
       "    <tr>\n",
       "      <th>1</th>\n",
       "      <td>s2</td>\n",
       "      <td>TV Show</td>\n",
       "      <td>Blood &amp; Water</td>\n",
       "      <td>NaN</td>\n",
       "      <td>Ama Qamata, Khosi Ngema, Gail Mabalane, Thaban...</td>\n",
       "      <td>South Africa</td>\n",
       "      <td>September 24, 2021</td>\n",
       "      <td>2021</td>\n",
       "      <td>TV-MA</td>\n",
       "      <td>2 Seasons</td>\n",
       "      <td>International TV Shows, TV Dramas, TV Mysteries</td>\n",
       "      <td>After crossing paths at a party, a Cape Town t...</td>\n",
       "    </tr>\n",
       "    <tr>\n",
       "      <th>2</th>\n",
       "      <td>s3</td>\n",
       "      <td>TV Show</td>\n",
       "      <td>Ganglands</td>\n",
       "      <td>Julien Leclercq</td>\n",
       "      <td>Sami Bouajila, Tracy Gotoas, Samuel Jouy, Nabi...</td>\n",
       "      <td>NaN</td>\n",
       "      <td>September 24, 2021</td>\n",
       "      <td>2021</td>\n",
       "      <td>TV-MA</td>\n",
       "      <td>1 Season</td>\n",
       "      <td>Crime TV Shows, International TV Shows, TV Act...</td>\n",
       "      <td>To protect his family from a powerful drug lor...</td>\n",
       "    </tr>\n",
       "    <tr>\n",
       "      <th>3</th>\n",
       "      <td>s4</td>\n",
       "      <td>TV Show</td>\n",
       "      <td>Jailbirds New Orleans</td>\n",
       "      <td>NaN</td>\n",
       "      <td>NaN</td>\n",
       "      <td>NaN</td>\n",
       "      <td>September 24, 2021</td>\n",
       "      <td>2021</td>\n",
       "      <td>TV-MA</td>\n",
       "      <td>1 Season</td>\n",
       "      <td>Docuseries, Reality TV</td>\n",
       "      <td>Feuds, flirtations and toilet talk go down amo...</td>\n",
       "    </tr>\n",
       "    <tr>\n",
       "      <th>4</th>\n",
       "      <td>s5</td>\n",
       "      <td>TV Show</td>\n",
       "      <td>Kota Factory</td>\n",
       "      <td>NaN</td>\n",
       "      <td>Mayur More, Jitendra Kumar, Ranjan Raj, Alam K...</td>\n",
       "      <td>India</td>\n",
       "      <td>September 24, 2021</td>\n",
       "      <td>2021</td>\n",
       "      <td>TV-MA</td>\n",
       "      <td>2 Seasons</td>\n",
       "      <td>International TV Shows, Romantic TV Shows, TV ...</td>\n",
       "      <td>In a city of coaching centers known to train I...</td>\n",
       "    </tr>\n",
       "  </tbody>\n",
       "</table>\n",
       "</div>"
      ],
      "text/plain": [
       "  show_id     type                  title         director  \\\n",
       "0      s1    Movie   Dick Johnson Is Dead  Kirsten Johnson   \n",
       "1      s2  TV Show          Blood & Water              NaN   \n",
       "2      s3  TV Show              Ganglands  Julien Leclercq   \n",
       "3      s4  TV Show  Jailbirds New Orleans              NaN   \n",
       "4      s5  TV Show           Kota Factory              NaN   \n",
       "\n",
       "                                                cast        country  \\\n",
       "0                                                NaN  United States   \n",
       "1  Ama Qamata, Khosi Ngema, Gail Mabalane, Thaban...   South Africa   \n",
       "2  Sami Bouajila, Tracy Gotoas, Samuel Jouy, Nabi...            NaN   \n",
       "3                                                NaN            NaN   \n",
       "4  Mayur More, Jitendra Kumar, Ranjan Raj, Alam K...          India   \n",
       "\n",
       "           date_added  release_year rating   duration  \\\n",
       "0  September 25, 2021          2020  PG-13     90 min   \n",
       "1  September 24, 2021          2021  TV-MA  2 Seasons   \n",
       "2  September 24, 2021          2021  TV-MA   1 Season   \n",
       "3  September 24, 2021          2021  TV-MA   1 Season   \n",
       "4  September 24, 2021          2021  TV-MA  2 Seasons   \n",
       "\n",
       "                                           listed_in  \\\n",
       "0                                      Documentaries   \n",
       "1    International TV Shows, TV Dramas, TV Mysteries   \n",
       "2  Crime TV Shows, International TV Shows, TV Act...   \n",
       "3                             Docuseries, Reality TV   \n",
       "4  International TV Shows, Romantic TV Shows, TV ...   \n",
       "\n",
       "                                         description  \n",
       "0  As her father nears the end of his life, filmm...  \n",
       "1  After crossing paths at a party, a Cape Town t...  \n",
       "2  To protect his family from a powerful drug lor...  \n",
       "3  Feuds, flirtations and toilet talk go down amo...  \n",
       "4  In a city of coaching centers known to train I...  "
      ]
     },
     "execution_count": 3,
     "metadata": {},
     "output_type": "execute_result"
    }
   ],
   "source": [
    "df.head()"
   ]
  },
  {
   "cell_type": "code",
   "execution_count": 4,
   "id": "72117d9f",
   "metadata": {},
   "outputs": [
    {
     "data": {
      "text/html": [
       "<div>\n",
       "<style scoped>\n",
       "    .dataframe tbody tr th:only-of-type {\n",
       "        vertical-align: middle;\n",
       "    }\n",
       "\n",
       "    .dataframe tbody tr th {\n",
       "        vertical-align: top;\n",
       "    }\n",
       "\n",
       "    .dataframe thead th {\n",
       "        text-align: right;\n",
       "    }\n",
       "</style>\n",
       "<table border=\"1\" class=\"dataframe\">\n",
       "  <thead>\n",
       "    <tr style=\"text-align: right;\">\n",
       "      <th></th>\n",
       "      <th>show_id</th>\n",
       "      <th>type</th>\n",
       "      <th>title</th>\n",
       "      <th>director</th>\n",
       "      <th>cast</th>\n",
       "      <th>country</th>\n",
       "      <th>date_added</th>\n",
       "      <th>release_year</th>\n",
       "      <th>rating</th>\n",
       "      <th>duration</th>\n",
       "      <th>listed_in</th>\n",
       "      <th>description</th>\n",
       "    </tr>\n",
       "  </thead>\n",
       "  <tbody>\n",
       "    <tr>\n",
       "      <th>8802</th>\n",
       "      <td>s8803</td>\n",
       "      <td>Movie</td>\n",
       "      <td>Zodiac</td>\n",
       "      <td>David Fincher</td>\n",
       "      <td>Mark Ruffalo, Jake Gyllenhaal, Robert Downey J...</td>\n",
       "      <td>United States</td>\n",
       "      <td>November 20, 2019</td>\n",
       "      <td>2007</td>\n",
       "      <td>R</td>\n",
       "      <td>158 min</td>\n",
       "      <td>Cult Movies, Dramas, Thrillers</td>\n",
       "      <td>A political cartoonist, a crime reporter and a...</td>\n",
       "    </tr>\n",
       "    <tr>\n",
       "      <th>8803</th>\n",
       "      <td>s8804</td>\n",
       "      <td>TV Show</td>\n",
       "      <td>Zombie Dumb</td>\n",
       "      <td>NaN</td>\n",
       "      <td>NaN</td>\n",
       "      <td>NaN</td>\n",
       "      <td>July 1, 2019</td>\n",
       "      <td>2018</td>\n",
       "      <td>TV-Y7</td>\n",
       "      <td>2 Seasons</td>\n",
       "      <td>Kids' TV, Korean TV Shows, TV Comedies</td>\n",
       "      <td>While living alone in a spooky town, a young g...</td>\n",
       "    </tr>\n",
       "    <tr>\n",
       "      <th>8804</th>\n",
       "      <td>s8805</td>\n",
       "      <td>Movie</td>\n",
       "      <td>Zombieland</td>\n",
       "      <td>Ruben Fleischer</td>\n",
       "      <td>Jesse Eisenberg, Woody Harrelson, Emma Stone, ...</td>\n",
       "      <td>United States</td>\n",
       "      <td>November 1, 2019</td>\n",
       "      <td>2009</td>\n",
       "      <td>R</td>\n",
       "      <td>88 min</td>\n",
       "      <td>Comedies, Horror Movies</td>\n",
       "      <td>Looking to survive in a world taken over by zo...</td>\n",
       "    </tr>\n",
       "    <tr>\n",
       "      <th>8805</th>\n",
       "      <td>s8806</td>\n",
       "      <td>Movie</td>\n",
       "      <td>Zoom</td>\n",
       "      <td>Peter Hewitt</td>\n",
       "      <td>Tim Allen, Courteney Cox, Chevy Chase, Kate Ma...</td>\n",
       "      <td>United States</td>\n",
       "      <td>January 11, 2020</td>\n",
       "      <td>2006</td>\n",
       "      <td>PG</td>\n",
       "      <td>88 min</td>\n",
       "      <td>Children &amp; Family Movies, Comedies</td>\n",
       "      <td>Dragged from civilian life, a former superhero...</td>\n",
       "    </tr>\n",
       "    <tr>\n",
       "      <th>8806</th>\n",
       "      <td>s8807</td>\n",
       "      <td>Movie</td>\n",
       "      <td>Zubaan</td>\n",
       "      <td>Mozez Singh</td>\n",
       "      <td>Vicky Kaushal, Sarah-Jane Dias, Raaghav Chanan...</td>\n",
       "      <td>India</td>\n",
       "      <td>March 2, 2019</td>\n",
       "      <td>2015</td>\n",
       "      <td>TV-14</td>\n",
       "      <td>111 min</td>\n",
       "      <td>Dramas, International Movies, Music &amp; Musicals</td>\n",
       "      <td>A scrappy but poor boy worms his way into a ty...</td>\n",
       "    </tr>\n",
       "  </tbody>\n",
       "</table>\n",
       "</div>"
      ],
      "text/plain": [
       "     show_id     type        title         director  \\\n",
       "8802   s8803    Movie       Zodiac    David Fincher   \n",
       "8803   s8804  TV Show  Zombie Dumb              NaN   \n",
       "8804   s8805    Movie   Zombieland  Ruben Fleischer   \n",
       "8805   s8806    Movie         Zoom     Peter Hewitt   \n",
       "8806   s8807    Movie       Zubaan      Mozez Singh   \n",
       "\n",
       "                                                   cast        country  \\\n",
       "8802  Mark Ruffalo, Jake Gyllenhaal, Robert Downey J...  United States   \n",
       "8803                                                NaN            NaN   \n",
       "8804  Jesse Eisenberg, Woody Harrelson, Emma Stone, ...  United States   \n",
       "8805  Tim Allen, Courteney Cox, Chevy Chase, Kate Ma...  United States   \n",
       "8806  Vicky Kaushal, Sarah-Jane Dias, Raaghav Chanan...          India   \n",
       "\n",
       "             date_added  release_year rating   duration  \\\n",
       "8802  November 20, 2019          2007      R    158 min   \n",
       "8803       July 1, 2019          2018  TV-Y7  2 Seasons   \n",
       "8804   November 1, 2019          2009      R     88 min   \n",
       "8805   January 11, 2020          2006     PG     88 min   \n",
       "8806      March 2, 2019          2015  TV-14    111 min   \n",
       "\n",
       "                                           listed_in  \\\n",
       "8802                  Cult Movies, Dramas, Thrillers   \n",
       "8803          Kids' TV, Korean TV Shows, TV Comedies   \n",
       "8804                         Comedies, Horror Movies   \n",
       "8805              Children & Family Movies, Comedies   \n",
       "8806  Dramas, International Movies, Music & Musicals   \n",
       "\n",
       "                                            description  \n",
       "8802  A political cartoonist, a crime reporter and a...  \n",
       "8803  While living alone in a spooky town, a young g...  \n",
       "8804  Looking to survive in a world taken over by zo...  \n",
       "8805  Dragged from civilian life, a former superhero...  \n",
       "8806  A scrappy but poor boy worms his way into a ty...  "
      ]
     },
     "execution_count": 4,
     "metadata": {},
     "output_type": "execute_result"
    }
   ],
   "source": [
    "df.tail()"
   ]
  },
  {
   "cell_type": "code",
   "execution_count": 5,
   "id": "5dff35de",
   "metadata": {},
   "outputs": [
    {
     "data": {
      "text/plain": [
       "(8807, 12)"
      ]
     },
     "execution_count": 5,
     "metadata": {},
     "output_type": "execute_result"
    }
   ],
   "source": [
    "df.shape"
   ]
  },
  {
   "cell_type": "code",
   "execution_count": 6,
   "id": "3387410f",
   "metadata": {},
   "outputs": [
    {
     "data": {
      "text/plain": [
       "Index(['show_id', 'type', 'title', 'director', 'cast', 'country', 'date_added',\n",
       "       'release_year', 'rating', 'duration', 'listed_in', 'description'],\n",
       "      dtype='object')"
      ]
     },
     "execution_count": 6,
     "metadata": {},
     "output_type": "execute_result"
    }
   ],
   "source": [
    "df.columns"
   ]
  },
  {
   "cell_type": "code",
   "execution_count": 7,
   "id": "bbb384d5",
   "metadata": {},
   "outputs": [
    {
     "name": "stdout",
     "output_type": "stream",
     "text": [
      "<class 'pandas.core.frame.DataFrame'>\n",
      "RangeIndex: 8807 entries, 0 to 8806\n",
      "Data columns (total 12 columns):\n",
      " #   Column        Non-Null Count  Dtype \n",
      "---  ------        --------------  ----- \n",
      " 0   show_id       8807 non-null   object\n",
      " 1   type          8807 non-null   object\n",
      " 2   title         8807 non-null   object\n",
      " 3   director      6173 non-null   object\n",
      " 4   cast          7982 non-null   object\n",
      " 5   country       7976 non-null   object\n",
      " 6   date_added    8797 non-null   object\n",
      " 7   release_year  8807 non-null   int64 \n",
      " 8   rating        8803 non-null   object\n",
      " 9   duration      8804 non-null   object\n",
      " 10  listed_in     8807 non-null   object\n",
      " 11  description   8807 non-null   object\n",
      "dtypes: int64(1), object(11)\n",
      "memory usage: 825.8+ KB\n"
     ]
    }
   ],
   "source": [
    "df.info()"
   ]
  },
  {
   "cell_type": "markdown",
   "id": "a1b31b2a",
   "metadata": {},
   "source": [
    "### Identifying and handing Missing Data"
   ]
  },
  {
   "cell_type": "code",
   "execution_count": 8,
   "id": "8c57d6e1",
   "metadata": {},
   "outputs": [
    {
     "data": {
      "text/plain": [
       "show_id            0\n",
       "type               0\n",
       "title              0\n",
       "director        2634\n",
       "cast             825\n",
       "country          831\n",
       "date_added        10\n",
       "release_year       0\n",
       "rating             4\n",
       "duration           3\n",
       "listed_in          0\n",
       "description        0\n",
       "dtype: int64"
      ]
     },
     "execution_count": 8,
     "metadata": {},
     "output_type": "execute_result"
    }
   ],
   "source": [
    "df.isnull().sum()"
   ]
  },
  {
   "cell_type": "code",
   "execution_count": 9,
   "id": "b9866d98",
   "metadata": {},
   "outputs": [],
   "source": [
    "df.dropna(inplace = True)"
   ]
  },
  {
   "cell_type": "code",
   "execution_count": 10,
   "id": "ee7d840f",
   "metadata": {},
   "outputs": [
    {
     "data": {
      "text/plain": [
       "show_id         0\n",
       "type            0\n",
       "title           0\n",
       "director        0\n",
       "cast            0\n",
       "country         0\n",
       "date_added      0\n",
       "release_year    0\n",
       "rating          0\n",
       "duration        0\n",
       "listed_in       0\n",
       "description     0\n",
       "dtype: int64"
      ]
     },
     "execution_count": 10,
     "metadata": {},
     "output_type": "execute_result"
    }
   ],
   "source": [
    "df.isnull().sum()"
   ]
  },
  {
   "cell_type": "code",
   "execution_count": 11,
   "id": "dc4648d2",
   "metadata": {},
   "outputs": [
    {
     "data": {
      "text/plain": [
       "0"
      ]
     },
     "execution_count": 11,
     "metadata": {},
     "output_type": "execute_result"
    }
   ],
   "source": [
    "df.duplicated().sum()"
   ]
  },
  {
   "cell_type": "code",
   "execution_count": 12,
   "id": "2e35d741",
   "metadata": {},
   "outputs": [
    {
     "data": {
      "text/plain": [
       "(5332, 12)"
      ]
     },
     "execution_count": 12,
     "metadata": {},
     "output_type": "execute_result"
    }
   ],
   "source": [
    "df.shape"
   ]
  },
  {
   "cell_type": "markdown",
   "id": "2ebde93c",
   "metadata": {},
   "source": [
    "### Data Transformation"
   ]
  },
  {
   "cell_type": "code",
   "execution_count": 13,
   "id": "a341b0d8",
   "metadata": {},
   "outputs": [
    {
     "data": {
      "text/html": [
       "<div>\n",
       "<style scoped>\n",
       "    .dataframe tbody tr th:only-of-type {\n",
       "        vertical-align: middle;\n",
       "    }\n",
       "\n",
       "    .dataframe tbody tr th {\n",
       "        vertical-align: top;\n",
       "    }\n",
       "\n",
       "    .dataframe thead th {\n",
       "        text-align: right;\n",
       "    }\n",
       "</style>\n",
       "<table border=\"1\" class=\"dataframe\">\n",
       "  <thead>\n",
       "    <tr style=\"text-align: right;\">\n",
       "      <th></th>\n",
       "      <th>show_id</th>\n",
       "      <th>type</th>\n",
       "      <th>title</th>\n",
       "      <th>director</th>\n",
       "      <th>cast</th>\n",
       "      <th>country</th>\n",
       "      <th>date_added</th>\n",
       "      <th>release_year</th>\n",
       "      <th>rating</th>\n",
       "      <th>duration</th>\n",
       "      <th>listed_in</th>\n",
       "      <th>description</th>\n",
       "    </tr>\n",
       "  </thead>\n",
       "  <tbody>\n",
       "    <tr>\n",
       "      <th>7</th>\n",
       "      <td>s8</td>\n",
       "      <td>Movie</td>\n",
       "      <td>Sankofa</td>\n",
       "      <td>Haile Gerima</td>\n",
       "      <td>Kofi Ghanaba, Oyafunmike Ogunlano, Alexandra D...</td>\n",
       "      <td>United States, Ghana, Burkina Faso, United Kin...</td>\n",
       "      <td>September 24, 2021</td>\n",
       "      <td>1993</td>\n",
       "      <td>TV-MA</td>\n",
       "      <td>125 min</td>\n",
       "      <td>Dramas, Independent Movies, International Movies</td>\n",
       "      <td>On a photo shoot in Ghana, an American model s...</td>\n",
       "    </tr>\n",
       "    <tr>\n",
       "      <th>8</th>\n",
       "      <td>s9</td>\n",
       "      <td>TV Show</td>\n",
       "      <td>The Great British Baking Show</td>\n",
       "      <td>Andy Devonshire</td>\n",
       "      <td>Mel Giedroyc, Sue Perkins, Mary Berry, Paul Ho...</td>\n",
       "      <td>United Kingdom</td>\n",
       "      <td>September 24, 2021</td>\n",
       "      <td>2021</td>\n",
       "      <td>TV-14</td>\n",
       "      <td>9 Seasons</td>\n",
       "      <td>British TV Shows, Reality TV</td>\n",
       "      <td>A talented batch of amateur bakers face off in...</td>\n",
       "    </tr>\n",
       "    <tr>\n",
       "      <th>9</th>\n",
       "      <td>s10</td>\n",
       "      <td>Movie</td>\n",
       "      <td>The Starling</td>\n",
       "      <td>Theodore Melfi</td>\n",
       "      <td>Melissa McCarthy, Chris O'Dowd, Kevin Kline, T...</td>\n",
       "      <td>United States</td>\n",
       "      <td>September 24, 2021</td>\n",
       "      <td>2021</td>\n",
       "      <td>PG-13</td>\n",
       "      <td>104 min</td>\n",
       "      <td>Comedies, Dramas</td>\n",
       "      <td>A woman adjusting to life after a loss contend...</td>\n",
       "    </tr>\n",
       "    <tr>\n",
       "      <th>12</th>\n",
       "      <td>s13</td>\n",
       "      <td>Movie</td>\n",
       "      <td>Je Suis Karl</td>\n",
       "      <td>Christian Schwochow</td>\n",
       "      <td>Luna Wedler, Jannis Niewöhner, Milan Peschel, ...</td>\n",
       "      <td>Germany, Czech Republic</td>\n",
       "      <td>September 23, 2021</td>\n",
       "      <td>2021</td>\n",
       "      <td>TV-MA</td>\n",
       "      <td>127 min</td>\n",
       "      <td>Dramas, International Movies</td>\n",
       "      <td>After most of her family is murdered in a terr...</td>\n",
       "    </tr>\n",
       "    <tr>\n",
       "      <th>24</th>\n",
       "      <td>s25</td>\n",
       "      <td>Movie</td>\n",
       "      <td>Jeans</td>\n",
       "      <td>S. Shankar</td>\n",
       "      <td>Prashanth, Aishwarya Rai Bachchan, Sri Lakshmi...</td>\n",
       "      <td>India</td>\n",
       "      <td>September 21, 2021</td>\n",
       "      <td>1998</td>\n",
       "      <td>TV-14</td>\n",
       "      <td>166 min</td>\n",
       "      <td>Comedies, International Movies, Romantic Movies</td>\n",
       "      <td>When the father of the man she loves insists t...</td>\n",
       "    </tr>\n",
       "  </tbody>\n",
       "</table>\n",
       "</div>"
      ],
      "text/plain": [
       "   show_id     type                          title             director  \\\n",
       "7       s8    Movie                        Sankofa         Haile Gerima   \n",
       "8       s9  TV Show  The Great British Baking Show      Andy Devonshire   \n",
       "9      s10    Movie                   The Starling       Theodore Melfi   \n",
       "12     s13    Movie                   Je Suis Karl  Christian Schwochow   \n",
       "24     s25    Movie                          Jeans           S. Shankar   \n",
       "\n",
       "                                                 cast  \\\n",
       "7   Kofi Ghanaba, Oyafunmike Ogunlano, Alexandra D...   \n",
       "8   Mel Giedroyc, Sue Perkins, Mary Berry, Paul Ho...   \n",
       "9   Melissa McCarthy, Chris O'Dowd, Kevin Kline, T...   \n",
       "12  Luna Wedler, Jannis Niewöhner, Milan Peschel, ...   \n",
       "24  Prashanth, Aishwarya Rai Bachchan, Sri Lakshmi...   \n",
       "\n",
       "                                              country          date_added  \\\n",
       "7   United States, Ghana, Burkina Faso, United Kin...  September 24, 2021   \n",
       "8                                      United Kingdom  September 24, 2021   \n",
       "9                                       United States  September 24, 2021   \n",
       "12                            Germany, Czech Republic  September 23, 2021   \n",
       "24                                              India  September 21, 2021   \n",
       "\n",
       "    release_year rating   duration  \\\n",
       "7           1993  TV-MA    125 min   \n",
       "8           2021  TV-14  9 Seasons   \n",
       "9           2021  PG-13    104 min   \n",
       "12          2021  TV-MA    127 min   \n",
       "24          1998  TV-14    166 min   \n",
       "\n",
       "                                           listed_in  \\\n",
       "7   Dramas, Independent Movies, International Movies   \n",
       "8                       British TV Shows, Reality TV   \n",
       "9                                   Comedies, Dramas   \n",
       "12                      Dramas, International Movies   \n",
       "24   Comedies, International Movies, Romantic Movies   \n",
       "\n",
       "                                          description  \n",
       "7   On a photo shoot in Ghana, an American model s...  \n",
       "8   A talented batch of amateur bakers face off in...  \n",
       "9   A woman adjusting to life after a loss contend...  \n",
       "12  After most of her family is murdered in a terr...  \n",
       "24  When the father of the man she loves insists t...  "
      ]
     },
     "execution_count": 13,
     "metadata": {},
     "output_type": "execute_result"
    }
   ],
   "source": [
    "df.head()"
   ]
  },
  {
   "cell_type": "code",
   "execution_count": 14,
   "id": "a9f5dcf5",
   "metadata": {},
   "outputs": [
    {
     "data": {
      "text/html": [
       "<div>\n",
       "<style scoped>\n",
       "    .dataframe tbody tr th:only-of-type {\n",
       "        vertical-align: middle;\n",
       "    }\n",
       "\n",
       "    .dataframe tbody tr th {\n",
       "        vertical-align: top;\n",
       "    }\n",
       "\n",
       "    .dataframe thead th {\n",
       "        text-align: right;\n",
       "    }\n",
       "</style>\n",
       "<table border=\"1\" class=\"dataframe\">\n",
       "  <thead>\n",
       "    <tr style=\"text-align: right;\">\n",
       "      <th></th>\n",
       "      <th>show_id</th>\n",
       "      <th>type</th>\n",
       "      <th>title</th>\n",
       "      <th>director</th>\n",
       "      <th>cast</th>\n",
       "      <th>country</th>\n",
       "      <th>date_added</th>\n",
       "      <th>release_year</th>\n",
       "      <th>rating</th>\n",
       "      <th>duration</th>\n",
       "      <th>listed_in</th>\n",
       "      <th>description</th>\n",
       "    </tr>\n",
       "  </thead>\n",
       "  <tbody>\n",
       "    <tr>\n",
       "      <th>7</th>\n",
       "      <td>1</td>\n",
       "      <td>Movie</td>\n",
       "      <td>Sankofa</td>\n",
       "      <td>Haile Gerima</td>\n",
       "      <td>Kofi Ghanaba, Oyafunmike Ogunlano, Alexandra D...</td>\n",
       "      <td>United States, Ghana, Burkina Faso, United Kin...</td>\n",
       "      <td>September 24, 2021</td>\n",
       "      <td>1993</td>\n",
       "      <td>TV-MA</td>\n",
       "      <td>125 min</td>\n",
       "      <td>Dramas, Independent Movies, International Movies</td>\n",
       "      <td>On a photo shoot in Ghana, an American model s...</td>\n",
       "    </tr>\n",
       "    <tr>\n",
       "      <th>8</th>\n",
       "      <td>2</td>\n",
       "      <td>TV Show</td>\n",
       "      <td>The Great British Baking Show</td>\n",
       "      <td>Andy Devonshire</td>\n",
       "      <td>Mel Giedroyc, Sue Perkins, Mary Berry, Paul Ho...</td>\n",
       "      <td>United Kingdom</td>\n",
       "      <td>September 24, 2021</td>\n",
       "      <td>2021</td>\n",
       "      <td>TV-14</td>\n",
       "      <td>9 Seasons</td>\n",
       "      <td>British TV Shows, Reality TV</td>\n",
       "      <td>A talented batch of amateur bakers face off in...</td>\n",
       "    </tr>\n",
       "    <tr>\n",
       "      <th>9</th>\n",
       "      <td>3</td>\n",
       "      <td>Movie</td>\n",
       "      <td>The Starling</td>\n",
       "      <td>Theodore Melfi</td>\n",
       "      <td>Melissa McCarthy, Chris O'Dowd, Kevin Kline, T...</td>\n",
       "      <td>United States</td>\n",
       "      <td>September 24, 2021</td>\n",
       "      <td>2021</td>\n",
       "      <td>PG-13</td>\n",
       "      <td>104 min</td>\n",
       "      <td>Comedies, Dramas</td>\n",
       "      <td>A woman adjusting to life after a loss contend...</td>\n",
       "    </tr>\n",
       "    <tr>\n",
       "      <th>12</th>\n",
       "      <td>4</td>\n",
       "      <td>Movie</td>\n",
       "      <td>Je Suis Karl</td>\n",
       "      <td>Christian Schwochow</td>\n",
       "      <td>Luna Wedler, Jannis Niewöhner, Milan Peschel, ...</td>\n",
       "      <td>Germany, Czech Republic</td>\n",
       "      <td>September 23, 2021</td>\n",
       "      <td>2021</td>\n",
       "      <td>TV-MA</td>\n",
       "      <td>127 min</td>\n",
       "      <td>Dramas, International Movies</td>\n",
       "      <td>After most of her family is murdered in a terr...</td>\n",
       "    </tr>\n",
       "    <tr>\n",
       "      <th>24</th>\n",
       "      <td>5</td>\n",
       "      <td>Movie</td>\n",
       "      <td>Jeans</td>\n",
       "      <td>S. Shankar</td>\n",
       "      <td>Prashanth, Aishwarya Rai Bachchan, Sri Lakshmi...</td>\n",
       "      <td>India</td>\n",
       "      <td>September 21, 2021</td>\n",
       "      <td>1998</td>\n",
       "      <td>TV-14</td>\n",
       "      <td>166 min</td>\n",
       "      <td>Comedies, International Movies, Romantic Movies</td>\n",
       "      <td>When the father of the man she loves insists t...</td>\n",
       "    </tr>\n",
       "  </tbody>\n",
       "</table>\n",
       "</div>"
      ],
      "text/plain": [
       "    show_id     type                          title             director  \\\n",
       "7         1    Movie                        Sankofa         Haile Gerima   \n",
       "8         2  TV Show  The Great British Baking Show      Andy Devonshire   \n",
       "9         3    Movie                   The Starling       Theodore Melfi   \n",
       "12        4    Movie                   Je Suis Karl  Christian Schwochow   \n",
       "24        5    Movie                          Jeans           S. Shankar   \n",
       "\n",
       "                                                 cast  \\\n",
       "7   Kofi Ghanaba, Oyafunmike Ogunlano, Alexandra D...   \n",
       "8   Mel Giedroyc, Sue Perkins, Mary Berry, Paul Ho...   \n",
       "9   Melissa McCarthy, Chris O'Dowd, Kevin Kline, T...   \n",
       "12  Luna Wedler, Jannis Niewöhner, Milan Peschel, ...   \n",
       "24  Prashanth, Aishwarya Rai Bachchan, Sri Lakshmi...   \n",
       "\n",
       "                                              country          date_added  \\\n",
       "7   United States, Ghana, Burkina Faso, United Kin...  September 24, 2021   \n",
       "8                                      United Kingdom  September 24, 2021   \n",
       "9                                       United States  September 24, 2021   \n",
       "12                            Germany, Czech Republic  September 23, 2021   \n",
       "24                                              India  September 21, 2021   \n",
       "\n",
       "    release_year rating   duration  \\\n",
       "7           1993  TV-MA    125 min   \n",
       "8           2021  TV-14  9 Seasons   \n",
       "9           2021  PG-13    104 min   \n",
       "12          2021  TV-MA    127 min   \n",
       "24          1998  TV-14    166 min   \n",
       "\n",
       "                                           listed_in  \\\n",
       "7   Dramas, Independent Movies, International Movies   \n",
       "8                       British TV Shows, Reality TV   \n",
       "9                                   Comedies, Dramas   \n",
       "12                      Dramas, International Movies   \n",
       "24   Comedies, International Movies, Romantic Movies   \n",
       "\n",
       "                                          description  \n",
       "7   On a photo shoot in Ghana, an American model s...  \n",
       "8   A talented batch of amateur bakers face off in...  \n",
       "9   A woman adjusting to life after a loss contend...  \n",
       "12  After most of her family is murdered in a terr...  \n",
       "24  When the father of the man she loves insists t...  "
      ]
     },
     "execution_count": 14,
     "metadata": {},
     "output_type": "execute_result"
    }
   ],
   "source": [
    "df['show_id'] = range(1, len(df) + 1)\n",
    "df.head()"
   ]
  },
  {
   "cell_type": "markdown",
   "id": "9accb360",
   "metadata": {},
   "source": [
    "###  Exploratory Data Analysis"
   ]
  },
  {
   "cell_type": "code",
   "execution_count": 15,
   "id": "7601b0de",
   "metadata": {},
   "outputs": [],
   "source": [
    "#Year with highest number of the TV Shows & Movies released"
   ]
  },
  {
   "cell_type": "code",
   "execution_count": 16,
   "id": "18487997",
   "metadata": {},
   "outputs": [
    {
     "name": "stdout",
     "output_type": "stream",
     "text": [
      "release_year\n",
      "2017    640\n",
      "2018    632\n",
      "2016    567\n",
      "2019    495\n",
      "2020    409\n",
      "Name: count, dtype: int64\n"
     ]
    }
   ],
   "source": [
    "movies_year_counts = df[df['type'] == 'Movie']['release_year'].value_counts().sort_values(ascending=False).head(5)\n",
    "print(movies_year_counts)"
   ]
  },
  {
   "cell_type": "code",
   "execution_count": 17,
   "id": "eba22e71",
   "metadata": {},
   "outputs": [
    {
     "data": {
      "image/png": "[encoded data removed]",
      "text/plain": [
       "<Figure size 800x600 with 1 Axes>"
      ]
     },
     "metadata": {},
     "output_type": "display_data"
    }
   ],
   "source": [
    "plt.figure(figsize=(8, 6))\n",
    "plt.bar(movies_year_counts.index, movies_year_counts.values, color='lightGreen', edgecolor='black')\n",
    "plt.title('Number of Movies Released Per Year', fontsize=16)\n",
    "plt.xlabel('Year', fontsize=12)\n",
    "plt.ylabel('Number of Movies', fontsize=12)\n",
    "plt.grid(axis='y', linestyle='--', alpha=0.7)\n",
    "plt.show()"
   ]
  },
  {
   "cell_type": "code",
   "execution_count": 18,
   "id": "f8e0ad49",
   "metadata": {},
   "outputs": [],
   "source": [
    "#To confirm their are no null values in dataset"
   ]
  },
  {
   "cell_type": "code",
   "execution_count": 19,
   "id": "b28cdca3",
   "metadata": {},
   "outputs": [
    {
     "data": {
      "text/plain": [
       "<Axes: >"
      ]
     },
     "execution_count": 19,
     "metadata": {},
     "output_type": "execute_result"
    },
    {
     "data": {
      "image/png": "[encoded data removed]",
      "text/plain": [
       "<Figure size 640x480 with 2 Axes>"
      ]
     },
     "metadata": {},
     "output_type": "display_data"
    }
   ],
   "source": [
    "sns.heatmap(df.isnull())"
   ]
  },
  {
   "cell_type": "code",
   "execution_count": 20,
   "id": "00bc58dc",
   "metadata": {},
   "outputs": [],
   "source": [
    "# How many Movies & TV Shows are in the dataset"
   ]
  },
  {
   "cell_type": "code",
   "execution_count": 21,
   "id": "e7dcdfe9",
   "metadata": {},
   "outputs": [
    {
     "data": {
      "text/plain": [
       "type\n",
       "Movie      5185\n",
       "TV Show     147\n",
       "Name: type, dtype: int64"
      ]
     },
     "execution_count": 21,
     "metadata": {},
     "output_type": "execute_result"
    }
   ],
   "source": [
    "df.groupby(\"type\").type.count()"
   ]
  },
  {
   "cell_type": "code",
   "execution_count": 22,
   "id": "5939c06f",
   "metadata": {},
   "outputs": [
    {
     "data": {
      "text/plain": [
       "<Axes: xlabel='type', ylabel='count'>"
      ]
     },
     "execution_count": 22,
     "metadata": {},
     "output_type": "execute_result"
    },
    {
     "data": {
      "image/png": "[encoded data removed]",
      "text/plain": [
       "<Figure size 640x480 with 1 Axes>"
      ]
     },
     "metadata": {},
     "output_type": "display_data"
    }
   ],
   "source": [
    "sns.countplot(x = df[\"type\"])"
   ]
  },
  {
   "cell_type": "code",
   "execution_count": 23,
   "id": "d52d41e4",
   "metadata": {},
   "outputs": [],
   "source": [
    "#  Top 10 Directors who gave the highest number of TV Shows & Movie to Netflix"
   ]
  },
  {
   "cell_type": "code",
   "execution_count": 24,
   "id": "799887e0",
   "metadata": {},
   "outputs": [
    {
     "data": {
      "text/plain": [
       "director\n",
       "Raúl Campos, Jan Suter    18\n",
       "Marcus Raboy              15\n",
       "Jay Karas                 14\n",
       "Cathy Garcia-Molina       13\n",
       "Martin Scorsese           12\n",
       "Youssef Chahine           12\n",
       "Jay Chapman               12\n",
       "Steven Spielberg          11\n",
       "Don Michael Paul          10\n",
       "David Dhawan               9\n",
       "Name: count, dtype: int64"
      ]
     },
     "execution_count": 24,
     "metadata": {},
     "output_type": "execute_result"
    }
   ],
   "source": [
    "df[\"director\"].value_counts().head(10)"
   ]
  },
  {
   "cell_type": "code",
   "execution_count": 25,
   "id": "4a44f7b1",
   "metadata": {},
   "outputs": [
    {
     "data": {
      "image/png": "[encoded data removed]",
      "text/plain": [
       "<Figure size 640x480 with 1 Axes>"
      ]
     },
     "metadata": {},
     "output_type": "display_data"
    }
   ],
   "source": [
    "df[\"director\"].value_counts().head(5).plot(kind = \"barh\",color =  \"darkorange\")\n",
    "plt.xlabel(\"No.of Movies\")\n",
    "plt.ylabel(\"Director\")\n",
    "plt.show()"
   ]
  },
  {
   "cell_type": "code",
   "execution_count": 26,
   "id": "d73d05a0",
   "metadata": {},
   "outputs": [],
   "source": [
    "# All the Records, where \"Category is Movie\" And \"Country is United Kingdom\""
   ]
  },
  {
   "cell_type": "code",
   "execution_count": 27,
   "id": "f8f9414a",
   "metadata": {},
   "outputs": [
    {
     "data": {
      "text/html": [
       "<div>\n",
       "<style scoped>\n",
       "    .dataframe tbody tr th:only-of-type {\n",
       "        vertical-align: middle;\n",
       "    }\n",
       "\n",
       "    .dataframe tbody tr th {\n",
       "        vertical-align: top;\n",
       "    }\n",
       "\n",
       "    .dataframe thead th {\n",
       "        text-align: right;\n",
       "    }\n",
       "</style>\n",
       "<table border=\"1\" class=\"dataframe\">\n",
       "  <thead>\n",
       "    <tr style=\"text-align: right;\">\n",
       "      <th></th>\n",
       "      <th>show_id</th>\n",
       "      <th>type</th>\n",
       "      <th>title</th>\n",
       "      <th>director</th>\n",
       "      <th>cast</th>\n",
       "      <th>country</th>\n",
       "      <th>date_added</th>\n",
       "      <th>release_year</th>\n",
       "      <th>rating</th>\n",
       "      <th>duration</th>\n",
       "      <th>listed_in</th>\n",
       "      <th>description</th>\n",
       "    </tr>\n",
       "  </thead>\n",
       "  <tbody>\n",
       "    <tr>\n",
       "      <th>292</th>\n",
       "      <td>129</td>\n",
       "      <td>Movie</td>\n",
       "      <td>Quartet</td>\n",
       "      <td>Dustin Hoffman</td>\n",
       "      <td>Maggie Smith, Tom Courtenay, Billy Connolly, P...</td>\n",
       "      <td>United Kingdom</td>\n",
       "      <td>August 8, 2021</td>\n",
       "      <td>2012</td>\n",
       "      <td>PG-13</td>\n",
       "      <td>98 min</td>\n",
       "      <td>Comedies, Dramas, Independent Movies</td>\n",
       "      <td>To save their posh retirement home, former ope...</td>\n",
       "    </tr>\n",
       "    <tr>\n",
       "      <th>304</th>\n",
       "      <td>138</td>\n",
       "      <td>Movie</td>\n",
       "      <td>Lady Boss: The Jackie Collins Story</td>\n",
       "      <td>Laura Fairrie</td>\n",
       "      <td>Jackie Collins</td>\n",
       "      <td>United Kingdom</td>\n",
       "      <td>August 5, 2021</td>\n",
       "      <td>2021</td>\n",
       "      <td>TV-14</td>\n",
       "      <td>97 min</td>\n",
       "      <td>Documentaries</td>\n",
       "      <td>\"Queen of Sleaze\" or feminist pioneer? Powerho...</td>\n",
       "    </tr>\n",
       "    <tr>\n",
       "      <th>402</th>\n",
       "      <td>186</td>\n",
       "      <td>Movie</td>\n",
       "      <td>The Last Letter From Your Lover</td>\n",
       "      <td>Augustine Frizzell</td>\n",
       "      <td>Shailene Woodley, Felicity Jones, Callum Turne...</td>\n",
       "      <td>United Kingdom</td>\n",
       "      <td>July 23, 2021</td>\n",
       "      <td>2021</td>\n",
       "      <td>TV-MA</td>\n",
       "      <td>111 min</td>\n",
       "      <td>Dramas, Romantic Movies</td>\n",
       "      <td>After finding a trove of love letters from 196...</td>\n",
       "    </tr>\n",
       "    <tr>\n",
       "      <th>589</th>\n",
       "      <td>251</td>\n",
       "      <td>Movie</td>\n",
       "      <td>Red Joan</td>\n",
       "      <td>Trevor Nunn</td>\n",
       "      <td>Judi Dench, Sophie Cookson, Nina Sosanya, Tom ...</td>\n",
       "      <td>United Kingdom</td>\n",
       "      <td>July 1, 2021</td>\n",
       "      <td>2019</td>\n",
       "      <td>R</td>\n",
       "      <td>101 min</td>\n",
       "      <td>Dramas, International Movies</td>\n",
       "      <td>When an unassuming elderly widow is arrested f...</td>\n",
       "    </tr>\n",
       "    <tr>\n",
       "      <th>821</th>\n",
       "      <td>365</td>\n",
       "      <td>Movie</td>\n",
       "      <td>The Wedding Guest</td>\n",
       "      <td>Michael Winterbottom</td>\n",
       "      <td>Dev Patel, Radhika Apte, Jim Sarbh</td>\n",
       "      <td>United Kingdom</td>\n",
       "      <td>June 2, 2021</td>\n",
       "      <td>2018</td>\n",
       "      <td>R</td>\n",
       "      <td>97 min</td>\n",
       "      <td>Dramas, Romantic Movies, Thrillers</td>\n",
       "      <td>Hired to extract a bride-to-be before her arra...</td>\n",
       "    </tr>\n",
       "    <tr>\n",
       "      <th>...</th>\n",
       "      <td>...</td>\n",
       "      <td>...</td>\n",
       "      <td>...</td>\n",
       "      <td>...</td>\n",
       "      <td>...</td>\n",
       "      <td>...</td>\n",
       "      <td>...</td>\n",
       "      <td>...</td>\n",
       "      <td>...</td>\n",
       "      <td>...</td>\n",
       "      <td>...</td>\n",
       "      <td>...</td>\n",
       "    </tr>\n",
       "    <tr>\n",
       "      <th>8697</th>\n",
       "      <td>5260</td>\n",
       "      <td>Movie</td>\n",
       "      <td>War on Everyone</td>\n",
       "      <td>John Michael McDonagh</td>\n",
       "      <td>Alexander Skarsgård, Michael Peña, Theo James,...</td>\n",
       "      <td>United Kingdom</td>\n",
       "      <td>December 3, 2019</td>\n",
       "      <td>2016</td>\n",
       "      <td>R</td>\n",
       "      <td>98 min</td>\n",
       "      <td>Action &amp; Adventure, Comedies</td>\n",
       "      <td>Terry and Bob excel at blackmailing small-time...</td>\n",
       "    </tr>\n",
       "    <tr>\n",
       "      <th>8732</th>\n",
       "      <td>5282</td>\n",
       "      <td>Movie</td>\n",
       "      <td>White Chamber</td>\n",
       "      <td>Paul Raschid</td>\n",
       "      <td>Shauna MacDonald, Oded Fehr, Amrita Acharia, S...</td>\n",
       "      <td>United Kingdom</td>\n",
       "      <td>August 1, 2019</td>\n",
       "      <td>2018</td>\n",
       "      <td>TV-MA</td>\n",
       "      <td>89 min</td>\n",
       "      <td>Sci-Fi &amp; Fantasy, Thrillers</td>\n",
       "      <td>When a civil war ravages the UK, a scientist a...</td>\n",
       "    </tr>\n",
       "    <tr>\n",
       "      <th>8733</th>\n",
       "      <td>5283</td>\n",
       "      <td>Movie</td>\n",
       "      <td>White Island</td>\n",
       "      <td>Benjamin Turner</td>\n",
       "      <td>Lyndon Ogbourne, Billy Zane, Billy Boyd, Joel ...</td>\n",
       "      <td>United Kingdom</td>\n",
       "      <td>September 25, 2017</td>\n",
       "      <td>2016</td>\n",
       "      <td>TV-MA</td>\n",
       "      <td>91 min</td>\n",
       "      <td>Comedies, Independent Movies, Thrillers</td>\n",
       "      <td>Returning to Ibiza after several years walking...</td>\n",
       "    </tr>\n",
       "    <tr>\n",
       "      <th>8737</th>\n",
       "      <td>5286</td>\n",
       "      <td>Movie</td>\n",
       "      <td>Why Are We Getting So Fat?</td>\n",
       "      <td>Milla Harrison-Hansley, Alicky Sussman</td>\n",
       "      <td>Giles Yeo</td>\n",
       "      <td>United Kingdom</td>\n",
       "      <td>February 1, 2019</td>\n",
       "      <td>2016</td>\n",
       "      <td>TV-14</td>\n",
       "      <td>50 min</td>\n",
       "      <td>Documentaries</td>\n",
       "      <td>A Cambridge geneticist dispels misconceptions ...</td>\n",
       "    </tr>\n",
       "    <tr>\n",
       "      <th>8786</th>\n",
       "      <td>5317</td>\n",
       "      <td>Movie</td>\n",
       "      <td>You Can Tutu</td>\n",
       "      <td>James Brown</td>\n",
       "      <td>Lily O'Regan, Jeannettsy Enriquez Borges, Joel...</td>\n",
       "      <td>United Kingdom</td>\n",
       "      <td>December 31, 2017</td>\n",
       "      <td>2017</td>\n",
       "      <td>TV-G</td>\n",
       "      <td>87 min</td>\n",
       "      <td>Children &amp; Family Movies</td>\n",
       "      <td>A gifted young ballet dancer struggles to find...</td>\n",
       "    </tr>\n",
       "  </tbody>\n",
       "</table>\n",
       "<p>164 rows × 12 columns</p>\n",
       "</div>"
      ],
      "text/plain": [
       "      show_id   type                                title  \\\n",
       "292       129  Movie                              Quartet   \n",
       "304       138  Movie  Lady Boss: The Jackie Collins Story   \n",
       "402       186  Movie      The Last Letter From Your Lover   \n",
       "589       251  Movie                             Red Joan   \n",
       "821       365  Movie                    The Wedding Guest   \n",
       "...       ...    ...                                  ...   \n",
       "8697     5260  Movie                      War on Everyone   \n",
       "8732     5282  Movie                        White Chamber   \n",
       "8733     5283  Movie                         White Island   \n",
       "8737     5286  Movie           Why Are We Getting So Fat?   \n",
       "8786     5317  Movie                         You Can Tutu   \n",
       "\n",
       "                                    director  \\\n",
       "292                           Dustin Hoffman   \n",
       "304                            Laura Fairrie   \n",
       "402                       Augustine Frizzell   \n",
       "589                              Trevor Nunn   \n",
       "821                     Michael Winterbottom   \n",
       "...                                      ...   \n",
       "8697                   John Michael McDonagh   \n",
       "8732                            Paul Raschid   \n",
       "8733                         Benjamin Turner   \n",
       "8737  Milla Harrison-Hansley, Alicky Sussman   \n",
       "8786                             James Brown   \n",
       "\n",
       "                                                   cast         country  \\\n",
       "292   Maggie Smith, Tom Courtenay, Billy Connolly, P...  United Kingdom   \n",
       "304                                      Jackie Collins  United Kingdom   \n",
       "402   Shailene Woodley, Felicity Jones, Callum Turne...  United Kingdom   \n",
       "589   Judi Dench, Sophie Cookson, Nina Sosanya, Tom ...  United Kingdom   \n",
       "821                  Dev Patel, Radhika Apte, Jim Sarbh  United Kingdom   \n",
       "...                                                 ...             ...   \n",
       "8697  Alexander Skarsgård, Michael Peña, Theo James,...  United Kingdom   \n",
       "8732  Shauna MacDonald, Oded Fehr, Amrita Acharia, S...  United Kingdom   \n",
       "8733  Lyndon Ogbourne, Billy Zane, Billy Boyd, Joel ...  United Kingdom   \n",
       "8737                                          Giles Yeo  United Kingdom   \n",
       "8786  Lily O'Regan, Jeannettsy Enriquez Borges, Joel...  United Kingdom   \n",
       "\n",
       "              date_added  release_year rating duration  \\\n",
       "292       August 8, 2021          2012  PG-13   98 min   \n",
       "304       August 5, 2021          2021  TV-14   97 min   \n",
       "402        July 23, 2021          2021  TV-MA  111 min   \n",
       "589         July 1, 2021          2019      R  101 min   \n",
       "821         June 2, 2021          2018      R   97 min   \n",
       "...                  ...           ...    ...      ...   \n",
       "8697    December 3, 2019          2016      R   98 min   \n",
       "8732      August 1, 2019          2018  TV-MA   89 min   \n",
       "8733  September 25, 2017          2016  TV-MA   91 min   \n",
       "8737    February 1, 2019          2016  TV-14   50 min   \n",
       "8786   December 31, 2017          2017   TV-G   87 min   \n",
       "\n",
       "                                    listed_in  \\\n",
       "292      Comedies, Dramas, Independent Movies   \n",
       "304                             Documentaries   \n",
       "402                   Dramas, Romantic Movies   \n",
       "589              Dramas, International Movies   \n",
       "821        Dramas, Romantic Movies, Thrillers   \n",
       "...                                       ...   \n",
       "8697             Action & Adventure, Comedies   \n",
       "8732              Sci-Fi & Fantasy, Thrillers   \n",
       "8733  Comedies, Independent Movies, Thrillers   \n",
       "8737                            Documentaries   \n",
       "8786                 Children & Family Movies   \n",
       "\n",
       "                                            description  \n",
       "292   To save their posh retirement home, former ope...  \n",
       "304   \"Queen of Sleaze\" or feminist pioneer? Powerho...  \n",
       "402   After finding a trove of love letters from 196...  \n",
       "589   When an unassuming elderly widow is arrested f...  \n",
       "821   Hired to extract a bride-to-be before her arra...  \n",
       "...                                                 ...  \n",
       "8697  Terry and Bob excel at blackmailing small-time...  \n",
       "8732  When a civil war ravages the UK, a scientist a...  \n",
       "8733  Returning to Ibiza after several years walking...  \n",
       "8737  A Cambridge geneticist dispels misconceptions ...  \n",
       "8786  A gifted young ballet dancer struggles to find...  \n",
       "\n",
       "[164 rows x 12 columns]"
      ]
     },
     "execution_count": 27,
     "metadata": {},
     "output_type": "execute_result"
    }
   ],
   "source": [
    "df[(df['type']=='Movie') & (df['country']=='United Kingdom')]"
   ]
  },
  {
   "cell_type": "code",
   "execution_count": 28,
   "id": "fe6f138e",
   "metadata": {},
   "outputs": [],
   "source": [
    "#Movies that were released in year 2020."
   ]
  },
  {
   "cell_type": "code",
   "execution_count": 29,
   "id": "4dbd147c",
   "metadata": {},
   "outputs": [
    {
     "data": {
      "text/html": [
       "<div>\n",
       "<style scoped>\n",
       "    .dataframe tbody tr th:only-of-type {\n",
       "        vertical-align: middle;\n",
       "    }\n",
       "\n",
       "    .dataframe tbody tr th {\n",
       "        vertical-align: top;\n",
       "    }\n",
       "\n",
       "    .dataframe thead th {\n",
       "        text-align: right;\n",
       "    }\n",
       "</style>\n",
       "<table border=\"1\" class=\"dataframe\">\n",
       "  <thead>\n",
       "    <tr style=\"text-align: right;\">\n",
       "      <th></th>\n",
       "      <th>show_id</th>\n",
       "      <th>type</th>\n",
       "      <th>title</th>\n",
       "      <th>director</th>\n",
       "      <th>cast</th>\n",
       "      <th>country</th>\n",
       "      <th>date_added</th>\n",
       "      <th>release_year</th>\n",
       "      <th>rating</th>\n",
       "      <th>duration</th>\n",
       "      <th>listed_in</th>\n",
       "      <th>description</th>\n",
       "    </tr>\n",
       "  </thead>\n",
       "  <tbody>\n",
       "    <tr>\n",
       "      <th>84</th>\n",
       "      <td>30</td>\n",
       "      <td>Movie</td>\n",
       "      <td>Omo Ghetto: the Saga</td>\n",
       "      <td>JJC Skillz, Funke Akindele</td>\n",
       "      <td>Funke Akindele, Ayo Makun, Chioma Chukwuka Akp...</td>\n",
       "      <td>Nigeria</td>\n",
       "      <td>September 10, 2021</td>\n",
       "      <td>2020</td>\n",
       "      <td>TV-MA</td>\n",
       "      <td>147 min</td>\n",
       "      <td>Action &amp; Adventure, Comedies, Dramas</td>\n",
       "      <td>Twins are reunited as a good-hearted female ga...</td>\n",
       "    </tr>\n",
       "    <tr>\n",
       "      <th>126</th>\n",
       "      <td>41</td>\n",
       "      <td>Movie</td>\n",
       "      <td>Shikara</td>\n",
       "      <td>Vidhu Vinod Chopra</td>\n",
       "      <td>Aadil Khan, Sadia Khateeb, Zain Khan Durrani, ...</td>\n",
       "      <td>India</td>\n",
       "      <td>September 2, 2021</td>\n",
       "      <td>2020</td>\n",
       "      <td>TV-14</td>\n",
       "      <td>115 min</td>\n",
       "      <td>Dramas, International Movies, Romantic Movies</td>\n",
       "      <td>A couple must strive to remain resilient after...</td>\n",
       "    </tr>\n",
       "    <tr>\n",
       "      <th>227</th>\n",
       "      <td>110</td>\n",
       "      <td>Movie</td>\n",
       "      <td>Really Love</td>\n",
       "      <td>Angel Kristi Williams</td>\n",
       "      <td>Kofi Siriboe, Yootha Wong-Loi-Sing, Michael Ea...</td>\n",
       "      <td>United States</td>\n",
       "      <td>August 25, 2021</td>\n",
       "      <td>2020</td>\n",
       "      <td>TV-MA</td>\n",
       "      <td>95 min</td>\n",
       "      <td>Dramas, Independent Movies, Romantic Movies</td>\n",
       "      <td>A rising Black painter tries to break into a c...</td>\n",
       "    </tr>\n",
       "    <tr>\n",
       "      <th>229</th>\n",
       "      <td>112</td>\n",
       "      <td>Movie</td>\n",
       "      <td>The Old Ways</td>\n",
       "      <td>Christopher Alender</td>\n",
       "      <td>Brigitte Kali Canales, Andrea Cortes, Julia Ve...</td>\n",
       "      <td>United States</td>\n",
       "      <td>August 25, 2021</td>\n",
       "      <td>2020</td>\n",
       "      <td>TV-MA</td>\n",
       "      <td>90 min</td>\n",
       "      <td>Horror Movies</td>\n",
       "      <td>A reporter visits her birthplace in Veracruz f...</td>\n",
       "    </tr>\n",
       "    <tr>\n",
       "      <th>282</th>\n",
       "      <td>126</td>\n",
       "      <td>Movie</td>\n",
       "      <td>La diosa del asfalto</td>\n",
       "      <td>Julián Hernández</td>\n",
       "      <td>Ximena Romo, Mabel Cadena, Alejandra Herrera, ...</td>\n",
       "      <td>Mexico</td>\n",
       "      <td>August 11, 2021</td>\n",
       "      <td>2020</td>\n",
       "      <td>TV-MA</td>\n",
       "      <td>127 min</td>\n",
       "      <td>Dramas, Independent Movies, International Movies</td>\n",
       "      <td>A woman from a tough neighborhood outside Mexi...</td>\n",
       "    </tr>\n",
       "    <tr>\n",
       "      <th>...</th>\n",
       "      <td>...</td>\n",
       "      <td>...</td>\n",
       "      <td>...</td>\n",
       "      <td>...</td>\n",
       "      <td>...</td>\n",
       "      <td>...</td>\n",
       "      <td>...</td>\n",
       "      <td>...</td>\n",
       "      <td>...</td>\n",
       "      <td>...</td>\n",
       "      <td>...</td>\n",
       "      <td>...</td>\n",
       "    </tr>\n",
       "    <tr>\n",
       "      <th>3044</th>\n",
       "      <td>1673</td>\n",
       "      <td>Movie</td>\n",
       "      <td>Live Twice, Love Once</td>\n",
       "      <td>Maria Ripoll</td>\n",
       "      <td>Oscar Martínez, Inma Cuesta, Mafalda Carbonell...</td>\n",
       "      <td>Spain</td>\n",
       "      <td>January 7, 2020</td>\n",
       "      <td>2020</td>\n",
       "      <td>TV-MA</td>\n",
       "      <td>102 min</td>\n",
       "      <td>Comedies, Dramas, International Movies</td>\n",
       "      <td>When Emilio (Oscar Martínez) is diagnosed with...</td>\n",
       "    </tr>\n",
       "    <tr>\n",
       "      <th>3046</th>\n",
       "      <td>1674</td>\n",
       "      <td>Movie</td>\n",
       "      <td>All the Freckles in the World</td>\n",
       "      <td>Yibrán Asuad</td>\n",
       "      <td>Hánssel Casillas, Loreto Peralta, Andrea Sutto...</td>\n",
       "      <td>Mexico</td>\n",
       "      <td>January 3, 2020</td>\n",
       "      <td>2020</td>\n",
       "      <td>TV-14</td>\n",
       "      <td>90 min</td>\n",
       "      <td>Comedies, International Movies, Romantic Movies</td>\n",
       "      <td>Thirteen-year-old José Miguel is immune to 199...</td>\n",
       "    </tr>\n",
       "    <tr>\n",
       "      <th>3060</th>\n",
       "      <td>1681</td>\n",
       "      <td>Movie</td>\n",
       "      <td>Ghost Stories</td>\n",
       "      <td>Anurag Kashyap, Dibakar Banerjee, Karan Johar,...</td>\n",
       "      <td>Janhvi Kapoor, Sobhita Dhulipala, Sukant Goel,...</td>\n",
       "      <td>India</td>\n",
       "      <td>January 1, 2020</td>\n",
       "      <td>2020</td>\n",
       "      <td>TV-MA</td>\n",
       "      <td>145 min</td>\n",
       "      <td>Horror Movies, International Movies, Thrillers</td>\n",
       "      <td>The directors of Emmy-nominated \"Lust Stories\"...</td>\n",
       "    </tr>\n",
       "    <tr>\n",
       "      <th>7594</th>\n",
       "      <td>4474</td>\n",
       "      <td>Movie</td>\n",
       "      <td>Norm of the North: Family Vacation</td>\n",
       "      <td>Anthony Bell</td>\n",
       "      <td>Andrew Toth, Lisa Durupt, Jonathan Holmes, Pau...</td>\n",
       "      <td>United States</td>\n",
       "      <td>May 25, 2020</td>\n",
       "      <td>2020</td>\n",
       "      <td>TV-Y7</td>\n",
       "      <td>89 min</td>\n",
       "      <td>Children &amp; Family Movies</td>\n",
       "      <td>Stressed by his duties as king and father, Nor...</td>\n",
       "    </tr>\n",
       "    <tr>\n",
       "      <th>8099</th>\n",
       "      <td>4826</td>\n",
       "      <td>Movie</td>\n",
       "      <td>Straight Up</td>\n",
       "      <td>James Sweeney</td>\n",
       "      <td>James Sweeney, Katie Findlay, Randall Park, Hi...</td>\n",
       "      <td>United States</td>\n",
       "      <td>June 26, 2020</td>\n",
       "      <td>2020</td>\n",
       "      <td>TV-MA</td>\n",
       "      <td>96 min</td>\n",
       "      <td>Comedies, Independent Movies, LGBTQ Movies</td>\n",
       "      <td>When a gay brainiac with OCD questions his ide...</td>\n",
       "    </tr>\n",
       "  </tbody>\n",
       "</table>\n",
       "<p>409 rows × 12 columns</p>\n",
       "</div>"
      ],
      "text/plain": [
       "      show_id   type                               title  \\\n",
       "84         30  Movie                Omo Ghetto: the Saga   \n",
       "126        41  Movie                             Shikara   \n",
       "227       110  Movie                         Really Love   \n",
       "229       112  Movie                        The Old Ways   \n",
       "282       126  Movie                La diosa del asfalto   \n",
       "...       ...    ...                                 ...   \n",
       "3044     1673  Movie               Live Twice, Love Once   \n",
       "3046     1674  Movie       All the Freckles in the World   \n",
       "3060     1681  Movie                       Ghost Stories   \n",
       "7594     4474  Movie  Norm of the North: Family Vacation   \n",
       "8099     4826  Movie                         Straight Up   \n",
       "\n",
       "                                               director  \\\n",
       "84                           JJC Skillz, Funke Akindele   \n",
       "126                                  Vidhu Vinod Chopra   \n",
       "227                               Angel Kristi Williams   \n",
       "229                                 Christopher Alender   \n",
       "282                                    Julián Hernández   \n",
       "...                                                 ...   \n",
       "3044                                       Maria Ripoll   \n",
       "3046                                       Yibrán Asuad   \n",
       "3060  Anurag Kashyap, Dibakar Banerjee, Karan Johar,...   \n",
       "7594                                       Anthony Bell   \n",
       "8099                                      James Sweeney   \n",
       "\n",
       "                                                   cast        country  \\\n",
       "84    Funke Akindele, Ayo Makun, Chioma Chukwuka Akp...        Nigeria   \n",
       "126   Aadil Khan, Sadia Khateeb, Zain Khan Durrani, ...          India   \n",
       "227   Kofi Siriboe, Yootha Wong-Loi-Sing, Michael Ea...  United States   \n",
       "229   Brigitte Kali Canales, Andrea Cortes, Julia Ve...  United States   \n",
       "282   Ximena Romo, Mabel Cadena, Alejandra Herrera, ...         Mexico   \n",
       "...                                                 ...            ...   \n",
       "3044  Oscar Martínez, Inma Cuesta, Mafalda Carbonell...          Spain   \n",
       "3046  Hánssel Casillas, Loreto Peralta, Andrea Sutto...         Mexico   \n",
       "3060  Janhvi Kapoor, Sobhita Dhulipala, Sukant Goel,...          India   \n",
       "7594  Andrew Toth, Lisa Durupt, Jonathan Holmes, Pau...  United States   \n",
       "8099  James Sweeney, Katie Findlay, Randall Park, Hi...  United States   \n",
       "\n",
       "              date_added  release_year rating duration  \\\n",
       "84    September 10, 2021          2020  TV-MA  147 min   \n",
       "126    September 2, 2021          2020  TV-14  115 min   \n",
       "227      August 25, 2021          2020  TV-MA   95 min   \n",
       "229      August 25, 2021          2020  TV-MA   90 min   \n",
       "282      August 11, 2021          2020  TV-MA  127 min   \n",
       "...                  ...           ...    ...      ...   \n",
       "3044     January 7, 2020          2020  TV-MA  102 min   \n",
       "3046     January 3, 2020          2020  TV-14   90 min   \n",
       "3060     January 1, 2020          2020  TV-MA  145 min   \n",
       "7594        May 25, 2020          2020  TV-Y7   89 min   \n",
       "8099       June 26, 2020          2020  TV-MA   96 min   \n",
       "\n",
       "                                             listed_in  \\\n",
       "84                Action & Adventure, Comedies, Dramas   \n",
       "126      Dramas, International Movies, Romantic Movies   \n",
       "227        Dramas, Independent Movies, Romantic Movies   \n",
       "229                                      Horror Movies   \n",
       "282   Dramas, Independent Movies, International Movies   \n",
       "...                                                ...   \n",
       "3044            Comedies, Dramas, International Movies   \n",
       "3046   Comedies, International Movies, Romantic Movies   \n",
       "3060    Horror Movies, International Movies, Thrillers   \n",
       "7594                          Children & Family Movies   \n",
       "8099        Comedies, Independent Movies, LGBTQ Movies   \n",
       "\n",
       "                                            description  \n",
       "84    Twins are reunited as a good-hearted female ga...  \n",
       "126   A couple must strive to remain resilient after...  \n",
       "227   A rising Black painter tries to break into a c...  \n",
       "229   A reporter visits her birthplace in Veracruz f...  \n",
       "282   A woman from a tough neighborhood outside Mexi...  \n",
       "...                                                 ...  \n",
       "3044  When Emilio (Oscar Martínez) is diagnosed with...  \n",
       "3046  Thirteen-year-old José Miguel is immune to 199...  \n",
       "3060  The directors of Emmy-nominated \"Lust Stories\"...  \n",
       "7594  Stressed by his duties as king and father, Nor...  \n",
       "8099  When a gay brainiac with OCD questions his ide...  \n",
       "\n",
       "[409 rows x 12 columns]"
      ]
     },
     "execution_count": 29,
     "metadata": {},
     "output_type": "execute_result"
    }
   ],
   "source": [
    "df[(df['type'] == 'Movie') & (df['release_year'] == 2020)]"
   ]
  },
  {
   "cell_type": "code",
   "execution_count": 30,
   "id": "7a2b7a86",
   "metadata": {},
   "outputs": [],
   "source": [
    "# Titles of all TV Shows and Movies that were released in India"
   ]
  },
  {
   "cell_type": "code",
   "execution_count": 31,
   "id": "2a19f46b",
   "metadata": {},
   "outputs": [
    {
     "data": {
      "text/plain": [
       "297                                  Navarasa\n",
       "1293                            Pitta Kathalu\n",
       "1520                          Paava Kadhaigal\n",
       "3036             Jamtara - Sabka Number Ayega\n",
       "4685                                    GHOUL\n",
       "6024                                7 (Seven)\n",
       "8172    Th Eena Meena Deeka Chase Comedy Show\n",
       "Name: title, dtype: object"
      ]
     },
     "execution_count": 31,
     "metadata": {},
     "output_type": "execute_result"
    }
   ],
   "source": [
    "df[(df['type']=='TV Show') & (df['country']=='India')]['title']"
   ]
  },
  {
   "cell_type": "code",
   "execution_count": 32,
   "id": "82935043",
   "metadata": {},
   "outputs": [
    {
     "data": {
      "text/plain": [
       "24                      Jeans\n",
       "105          Angamaly Diaries\n",
       "114                    Anjaam\n",
       "116                    Dhanak\n",
       "118                   Gurgaon\n",
       "                ...          \n",
       "8772    Yamla Pagla Deewana 2\n",
       "8773      Yanda Kartavya Aahe\n",
       "8798                 Zed Plus\n",
       "8799                    Zenda\n",
       "8806                   Zubaan\n",
       "Name: title, Length: 868, dtype: object"
      ]
     },
     "execution_count": 32,
     "metadata": {},
     "output_type": "execute_result"
    }
   ],
   "source": [
    "df[(df['type']=='Movie') & (df['country']=='India')]['title']"
   ]
  },
  {
   "cell_type": "code",
   "execution_count": 33,
   "id": "982d77ed",
   "metadata": {},
   "outputs": [
    {
     "data": {
      "text/plain": [
       "7"
      ]
     },
     "execution_count": 33,
     "metadata": {},
     "output_type": "execute_result"
    }
   ],
   "source": [
    "df[(df['type']=='TV Show') & (df['country']=='India')]['title'].count()"
   ]
  },
  {
   "cell_type": "code",
   "execution_count": 34,
   "id": "b7417df0",
   "metadata": {},
   "outputs": [
    {
     "data": {
      "text/plain": [
       "868"
      ]
     },
     "execution_count": 34,
     "metadata": {},
     "output_type": "execute_result"
    }
   ],
   "source": [
    "df[(df['type']=='Movie') & (df['country']=='India')]['title'].count()"
   ]
  },
  {
   "cell_type": "code",
   "execution_count": 35,
   "id": "8f9f3f65",
   "metadata": {},
   "outputs": [],
   "source": [
    "#Top 10 Actors acted in movies"
   ]
  },
  {
   "cell_type": "code",
   "execution_count": 36,
   "id": "a75634fe",
   "metadata": {},
   "outputs": [
    {
     "data": {
      "text/plain": [
       "cast\n",
       "Samuel West           10\n",
       "Jeff Dunham            7\n",
       "Kevin Hart             6\n",
       "Bill Burr              5\n",
       "Jim Gaffigan           5\n",
       "Jerry Seinfeld         4\n",
       "Bill Hicks             4\n",
       "Iliza Shlesinger       4\n",
       "Vir Das                4\n",
       "David Attenborough     4\n",
       "Name: count, dtype: int64"
      ]
     },
     "execution_count": 36,
     "metadata": {},
     "output_type": "execute_result"
    }
   ],
   "source": [
    "df['cast'].value_counts().head(10)"
   ]
  },
  {
   "cell_type": "code",
   "execution_count": 37,
   "id": "862d9c5f",
   "metadata": {},
   "outputs": [],
   "source": [
    "#Different types Ratings defined by Netflix"
   ]
  },
  {
   "cell_type": "code",
   "execution_count": 38,
   "id": "cf2856fe",
   "metadata": {},
   "outputs": [
    {
     "data": {
      "text/plain": [
       "array(['TV-MA', 'TV-14', 'PG-13', 'PG', 'R', 'TV-PG', 'G', 'TV-Y7',\n",
       "       'TV-G', 'TV-Y', 'NC-17', 'NR', 'TV-Y7-FV', 'UR'], dtype=object)"
      ]
     },
     "execution_count": 38,
     "metadata": {},
     "output_type": "execute_result"
    }
   ],
   "source": [
    "df['rating'].unique()"
   ]
  },
  {
   "cell_type": "code",
   "execution_count": 39,
   "id": "6f67c0d4",
   "metadata": {},
   "outputs": [
    {
     "data": {
      "text/plain": [
       "14"
      ]
     },
     "execution_count": 39,
     "metadata": {},
     "output_type": "execute_result"
    }
   ],
   "source": [
    "df['rating'].nunique()"
   ]
  },
  {
   "cell_type": "code",
   "execution_count": 40,
   "id": "ba367db5",
   "metadata": {},
   "outputs": [
    {
     "data": {
      "text/plain": [
       "rating\n",
       "TV-MA       1822\n",
       "TV-14       1214\n",
       "R            778\n",
       "PG-13        470\n",
       "TV-PG        431\n",
       "PG           275\n",
       "TV-G          84\n",
       "TV-Y7         76\n",
       "TV-Y          76\n",
       "NR            58\n",
       "G             40\n",
       "TV-Y7-FV       3\n",
       "UR             3\n",
       "NC-17          2\n",
       "Name: count, dtype: int64"
      ]
     },
     "execution_count": 40,
     "metadata": {},
     "output_type": "execute_result"
    }
   ],
   "source": [
    "df['rating'].value_counts()"
   ]
  },
  {
   "cell_type": "code",
   "execution_count": 41,
   "id": "81305f54",
   "metadata": {},
   "outputs": [
    {
     "data": {
      "image/png": "[encoded data removed]",
      "text/plain": [
       "<Figure size 1000x600 with 1 Axes>"
      ]
     },
     "metadata": {},
     "output_type": "display_data"
    }
   ],
   "source": [
    "ratings = {\n",
    "    \"TV-MA\": 3205, \"TV-14\": 2157, \"TV-PG\": 861, \"R\": 799, \"PG-13\": 490,\n",
    "    \"TV-Y7\": 333, \"TV-Y\": 306, \"PG\": 287, \"TV-G\": 220, \"NR\": 79,\n",
    "    \"G\": 41, \"TV-Y7-FV\": 6, \"NC-17\": 3, \"UR\": 3\n",
    "}\n",
    "categories = list(ratings.keys())\n",
    "counts = list(ratings.values())\n",
    "\n",
    "plt.figure(figsize=(10, 6))\n",
    "plt.bar(categories, counts, color='skyblue', edgecolor='black')\n",
    "plt.title('Distribution of Ratings', fontsize=16)\n",
    "plt.xlabel('Rating', fontsize=12)\n",
    "plt.ylabel('Count', fontsize=12)\n",
    "plt.tight_layout()\n",
    "plt.grid(axis='y', linestyle='--', alpha=0.7)\n",
    "plt.show()"
   ]
  },
  {
   "cell_type": "code",
   "execution_count": 42,
   "id": "88d3dccc",
   "metadata": {},
   "outputs": [],
   "source": [
    "#What is the maximum duration of a Movie/Show on Netflix"
   ]
  },
  {
   "cell_type": "code",
   "execution_count": 43,
   "id": "e6c85074",
   "metadata": {},
   "outputs": [
    {
     "data": {
      "text/plain": [
       "array(['125 min', '9 Seasons', '104 min', '127 min', '166 min', '103 min',\n",
       "       '97 min', '106 min', '96 min', '124 min', '116 min', '98 min',\n",
       "       '91 min', '115 min', '122 min', '99 min', '88 min', '100 min',\n",
       "       '102 min', '93 min', '95 min', '85 min', '83 min', '182 min',\n",
       "       '147 min', '90 min', '128 min', '143 min', '119 min', '114 min',\n",
       "       '118 min', '108 min', '117 min', '121 min', '142 min', '113 min',\n",
       "       '154 min', '120 min', '82 min', '94 min', '109 min', '101 min',\n",
       "       '105 min', '86 min', '229 min', '76 min', '89 min', '110 min',\n",
       "       '156 min', '112 min', '129 min', '107 min', '1 Season', '135 min',\n",
       "       '136 min', '165 min', '150 min', '133 min', '145 min', '92 min',\n",
       "       '2 Seasons', '64 min', '59 min', '111 min', '87 min', '148 min',\n",
       "       '189 min', '141 min', '130 min', '7 Seasons', '68 min', '131 min',\n",
       "       '126 min', '155 min', '123 min', '84 min', '4 Seasons', '13 min',\n",
       "       '77 min', '74 min', '49 min', '72 min', '78 min', '70 min',\n",
       "       '132 min', '140 min', '81 min', '138 min', '149 min', '15 min',\n",
       "       '224 min', '162 min', '60 min', '65 min', '137 min', '75 min',\n",
       "       '32 min', '158 min', '164 min', '173 min', '181 min', '73 min',\n",
       "       '6 Seasons', '24 min', '80 min', '139 min', '151 min', '22 min',\n",
       "       '134 min', '58 min', '52 min', '71 min', '161 min', '53 min',\n",
       "       '8 min', '46 min', '57 min', '28 min', '66 min', '50 min',\n",
       "       '79 min', '26 min', '54 min', '48 min', '45 min', '171 min',\n",
       "       '42 min', '27 min', '51 min', '69 min', '47 min', '33 min',\n",
       "       '44 min', '29 min', '146 min', '61 min', '63 min', '157 min',\n",
       "       '203 min', '25 min', '30 min', '62 min', '194 min', '55 min',\n",
       "       '5 Seasons', '15 Seasons', '177 min', '237 min', '195 min',\n",
       "       '253 min', '152 min', '67 min', '190 min', '160 min', '208 min',\n",
       "       '180 min', '144 min', '174 min', '170 min', '192 min', '209 min',\n",
       "       '187 min', '185 min', '172 min', '186 min', '8 Seasons', '193 min',\n",
       "       '176 min', '17 min', '56 min', '169 min', '40 min', '20 min',\n",
       "       '12 min', '168 min', '153 min', '159 min', '214 min', '31 min',\n",
       "       '163 min', '14 min', '179 min', '38 min', '23 min', '3 Seasons',\n",
       "       '43 min', '200 min', '196 min', '167 min', '41 min', '37 min',\n",
       "       '35 min', '178 min', '228 min', '18 min', '205 min', '201 min',\n",
       "       '191 min'], dtype=object)"
      ]
     },
     "execution_count": 43,
     "metadata": {},
     "output_type": "execute_result"
    }
   ],
   "source": [
    "df['duration'].unique()"
   ]
  },
  {
   "cell_type": "code",
   "execution_count": 44,
   "id": "1df8bbfd",
   "metadata": {},
   "outputs": [
    {
     "name": "stdout",
     "output_type": "stream",
     "text": [
      "Maximum Movie Duration: 253 minutes\n",
      "Maximum Show Duration: 15 seasons\n"
     ]
    },
    {
     "name": "stderr",
     "output_type": "stream",
     "text": [
      "C:\\Users\\Admin\\AppData\\Local\\Temp\\ipykernel_6164\\3618661679.py:4: SettingWithCopyWarning: \n",
      "A value is trying to be set on a copy of a slice from a DataFrame.\n",
      "Try using .loc[row_indexer,col_indexer] = value instead\n",
      "\n",
      "See the caveats in the documentation: https://pandas.pydata.org/pandas-docs/stable/user_guide/indexing.html#returning-a-view-versus-a-copy\n",
      "  movies['duration'] = movies['duration'].str.replace(' min', '').astype(int)\n",
      "C:\\Users\\Admin\\AppData\\Local\\Temp\\ipykernel_6164\\3618661679.py:5: SettingWithCopyWarning: \n",
      "A value is trying to be set on a copy of a slice from a DataFrame.\n",
      "Try using .loc[row_indexer,col_indexer] = value instead\n",
      "\n",
      "See the caveats in the documentation: https://pandas.pydata.org/pandas-docs/stable/user_guide/indexing.html#returning-a-view-versus-a-copy\n",
      "  shows['duration'] = shows['duration'].str.extract('(\\d+)').astype(int)\n"
     ]
    }
   ],
   "source": [
    "movies = df[df['type'] == 'Movie']\n",
    "shows = df[df['type'] == 'TV Show']\n",
    "\n",
    "movies['duration'] = movies['duration'].str.replace(' min', '').astype(int)\n",
    "shows['duration'] = shows['duration'].str.extract('(\\d+)').astype(int)\n",
    "\n",
    "max_movie_duration = movies['duration'].max()\n",
    "max_show_duration = shows['duration'].max()\n",
    "\n",
    "# Print results\n",
    "print(f\"Maximum Movie Duration: {max_movie_duration} minutes\")\n",
    "print(f\"Maximum Show Duration: {max_show_duration} seasons\")"
   ]
  },
  {
   "cell_type": "code",
   "execution_count": 45,
   "id": "fdb65cb7",
   "metadata": {},
   "outputs": [],
   "source": [
    "#Countries with most number of Movies and TV shows"
   ]
  },
  {
   "cell_type": "code",
   "execution_count": 46,
   "id": "d4bcdfaf",
   "metadata": {},
   "outputs": [
    {
     "data": {
      "text/plain": [
       "country\n",
       "United States     1819\n",
       "India              868\n",
       "United Kingdom     164\n",
       "Canada             104\n",
       "Egypt               90\n",
       "Name: count, dtype: int64"
      ]
     },
     "execution_count": 46,
     "metadata": {},
     "output_type": "execute_result"
    }
   ],
   "source": [
    "df[df['type'] == 'Movie']['country'].value_counts().head(5)"
   ]
  },
  {
   "cell_type": "code",
   "execution_count": 66,
   "id": "c98e90ae",
   "metadata": {},
   "outputs": [
    {
     "data": {
      "image/png": "[encoded data removed]",
      "text/plain": [
       "<Figure size 800x800 with 1 Axes>"
      ]
     },
     "metadata": {},
     "output_type": "display_data"
    }
   ],
   "source": [
    "country_counts = df[df['type'] == 'Movie']['country'].value_counts().head(5)\n",
    "\n",
    "plt.figure(figsize=(8, 8))\n",
    "plt.pie(country_counts, labels=country_counts.index, colors=plt.cm.tab20.colors,autopct='%1.1f%%')\n",
    "plt.title('Distribution of Movies by Country', fontsize=16)\n",
    "plt.legend()\n",
    "plt.show()"
   ]
  },
  {
   "cell_type": "code",
   "execution_count": 48,
   "id": "174a263a",
   "metadata": {},
   "outputs": [
    {
     "data": {
      "text/plain": [
       "country\n",
       "United States     27\n",
       "United Kingdom    19\n",
       "Japan             10\n",
       "South Korea       10\n",
       "Spain              7\n",
       "Name: count, dtype: int64"
      ]
     },
     "execution_count": 48,
     "metadata": {},
     "output_type": "execute_result"
    }
   ],
   "source": [
    "df[df['type'] == 'TV Show']['country'].value_counts().head(5)"
   ]
  },
  {
   "cell_type": "code",
   "execution_count": 68,
   "id": "58f7cc73",
   "metadata": {},
   "outputs": [
    {
     "data": {
      "image/png": "[encoded data removed]",
      "text/plain": [
       "<Figure size 800x800 with 1 Axes>"
      ]
     },
     "metadata": {},
     "output_type": "display_data"
    }
   ],
   "source": [
    "country_counts = df[df['type'] == 'TV Show']['country'].value_counts().head(5)\n",
    "\n",
    "plt.figure(figsize=(8, 8))\n",
    "plt.pie(country_counts, labels=country_counts.index, colors=plt.cm.tab20.colors,autopct='%1.1f%%')\n",
    "plt.title('Distribution of TV Shows by Country', fontsize=16)\n",
    "plt.legend(title=\"Countries\")\n",
    "plt.show()"
   ]
  },
  {
   "cell_type": "code",
   "execution_count": 50,
   "id": "6a8720a3",
   "metadata": {},
   "outputs": [],
   "source": [
    "#All the instances where Category is 'Movie' and Country is 'United States' or Category is 'TV Show' & Country is 'India'"
   ]
  },
  {
   "cell_type": "code",
   "execution_count": 51,
   "id": "bca2840a",
   "metadata": {},
   "outputs": [
    {
     "data": {
      "text/html": [
       "<div>\n",
       "<style scoped>\n",
       "    .dataframe tbody tr th:only-of-type {\n",
       "        vertical-align: middle;\n",
       "    }\n",
       "\n",
       "    .dataframe tbody tr th {\n",
       "        vertical-align: top;\n",
       "    }\n",
       "\n",
       "    .dataframe thead th {\n",
       "        text-align: right;\n",
       "    }\n",
       "</style>\n",
       "<table border=\"1\" class=\"dataframe\">\n",
       "  <thead>\n",
       "    <tr style=\"text-align: right;\">\n",
       "      <th></th>\n",
       "      <th>show_id</th>\n",
       "      <th>type</th>\n",
       "      <th>title</th>\n",
       "      <th>director</th>\n",
       "      <th>cast</th>\n",
       "      <th>country</th>\n",
       "      <th>date_added</th>\n",
       "      <th>release_year</th>\n",
       "      <th>rating</th>\n",
       "      <th>duration</th>\n",
       "      <th>listed_in</th>\n",
       "      <th>description</th>\n",
       "    </tr>\n",
       "  </thead>\n",
       "  <tbody>\n",
       "    <tr>\n",
       "      <th>9</th>\n",
       "      <td>3</td>\n",
       "      <td>Movie</td>\n",
       "      <td>The Starling</td>\n",
       "      <td>Theodore Melfi</td>\n",
       "      <td>Melissa McCarthy, Chris O'Dowd, Kevin Kline, T...</td>\n",
       "      <td>United States</td>\n",
       "      <td>September 24, 2021</td>\n",
       "      <td>2021</td>\n",
       "      <td>PG-13</td>\n",
       "      <td>104 min</td>\n",
       "      <td>Comedies, Dramas</td>\n",
       "      <td>A woman adjusting to life after a loss contend...</td>\n",
       "    </tr>\n",
       "    <tr>\n",
       "      <th>27</th>\n",
       "      <td>6</td>\n",
       "      <td>Movie</td>\n",
       "      <td>Grown Ups</td>\n",
       "      <td>Dennis Dugan</td>\n",
       "      <td>Adam Sandler, Kevin James, Chris Rock, David S...</td>\n",
       "      <td>United States</td>\n",
       "      <td>September 20, 2021</td>\n",
       "      <td>2010</td>\n",
       "      <td>PG-13</td>\n",
       "      <td>103 min</td>\n",
       "      <td>Comedies</td>\n",
       "      <td>Mourning the loss of their beloved junior high...</td>\n",
       "    </tr>\n",
       "    <tr>\n",
       "      <th>28</th>\n",
       "      <td>7</td>\n",
       "      <td>Movie</td>\n",
       "      <td>Dark Skies</td>\n",
       "      <td>Scott Stewart</td>\n",
       "      <td>Keri Russell, Josh Hamilton, J.K. Simmons, Dak...</td>\n",
       "      <td>United States</td>\n",
       "      <td>September 19, 2021</td>\n",
       "      <td>2013</td>\n",
       "      <td>PG-13</td>\n",
       "      <td>97 min</td>\n",
       "      <td>Horror Movies, Sci-Fi &amp; Fantasy</td>\n",
       "      <td>A family’s idyllic suburban life shatters when...</td>\n",
       "    </tr>\n",
       "    <tr>\n",
       "      <th>41</th>\n",
       "      <td>10</td>\n",
       "      <td>Movie</td>\n",
       "      <td>Jaws</td>\n",
       "      <td>Steven Spielberg</td>\n",
       "      <td>Roy Scheider, Robert Shaw, Richard Dreyfuss, L...</td>\n",
       "      <td>United States</td>\n",
       "      <td>September 16, 2021</td>\n",
       "      <td>1975</td>\n",
       "      <td>PG</td>\n",
       "      <td>124 min</td>\n",
       "      <td>Action &amp; Adventure, Classic Movies, Dramas</td>\n",
       "      <td>When an insatiable great white shark terrorize...</td>\n",
       "    </tr>\n",
       "    <tr>\n",
       "      <th>42</th>\n",
       "      <td>11</td>\n",
       "      <td>Movie</td>\n",
       "      <td>Jaws 2</td>\n",
       "      <td>Jeannot Szwarc</td>\n",
       "      <td>Roy Scheider, Lorraine Gary, Murray Hamilton, ...</td>\n",
       "      <td>United States</td>\n",
       "      <td>September 16, 2021</td>\n",
       "      <td>1978</td>\n",
       "      <td>PG</td>\n",
       "      <td>116 min</td>\n",
       "      <td>Dramas, Horror Movies, Thrillers</td>\n",
       "      <td>Four years after the last deadly shark attacks...</td>\n",
       "    </tr>\n",
       "    <tr>\n",
       "      <th>...</th>\n",
       "      <td>...</td>\n",
       "      <td>...</td>\n",
       "      <td>...</td>\n",
       "      <td>...</td>\n",
       "      <td>...</td>\n",
       "      <td>...</td>\n",
       "      <td>...</td>\n",
       "      <td>...</td>\n",
       "      <td>...</td>\n",
       "      <td>...</td>\n",
       "      <td>...</td>\n",
       "      <td>...</td>\n",
       "    </tr>\n",
       "    <tr>\n",
       "      <th>8791</th>\n",
       "      <td>5322</td>\n",
       "      <td>Movie</td>\n",
       "      <td>Young Adult</td>\n",
       "      <td>Jason Reitman</td>\n",
       "      <td>Charlize Theron, Patton Oswalt, Patrick Wilson...</td>\n",
       "      <td>United States</td>\n",
       "      <td>November 20, 2019</td>\n",
       "      <td>2011</td>\n",
       "      <td>R</td>\n",
       "      <td>94 min</td>\n",
       "      <td>Comedies, Dramas, Independent Movies</td>\n",
       "      <td>When a divorced writer gets a letter from an o...</td>\n",
       "    </tr>\n",
       "    <tr>\n",
       "      <th>8793</th>\n",
       "      <td>5324</td>\n",
       "      <td>Movie</td>\n",
       "      <td>Yours, Mine and Ours</td>\n",
       "      <td>Raja Gosnell</td>\n",
       "      <td>Dennis Quaid, Rene Russo, Sean Faris, Katija P...</td>\n",
       "      <td>United States</td>\n",
       "      <td>November 20, 2019</td>\n",
       "      <td>2005</td>\n",
       "      <td>PG</td>\n",
       "      <td>88 min</td>\n",
       "      <td>Children &amp; Family Movies, Comedies</td>\n",
       "      <td>When a father of eight and a mother of 10 prep...</td>\n",
       "    </tr>\n",
       "    <tr>\n",
       "      <th>8802</th>\n",
       "      <td>5329</td>\n",
       "      <td>Movie</td>\n",
       "      <td>Zodiac</td>\n",
       "      <td>David Fincher</td>\n",
       "      <td>Mark Ruffalo, Jake Gyllenhaal, Robert Downey J...</td>\n",
       "      <td>United States</td>\n",
       "      <td>November 20, 2019</td>\n",
       "      <td>2007</td>\n",
       "      <td>R</td>\n",
       "      <td>158 min</td>\n",
       "      <td>Cult Movies, Dramas, Thrillers</td>\n",
       "      <td>A political cartoonist, a crime reporter and a...</td>\n",
       "    </tr>\n",
       "    <tr>\n",
       "      <th>8804</th>\n",
       "      <td>5330</td>\n",
       "      <td>Movie</td>\n",
       "      <td>Zombieland</td>\n",
       "      <td>Ruben Fleischer</td>\n",
       "      <td>Jesse Eisenberg, Woody Harrelson, Emma Stone, ...</td>\n",
       "      <td>United States</td>\n",
       "      <td>November 1, 2019</td>\n",
       "      <td>2009</td>\n",
       "      <td>R</td>\n",
       "      <td>88 min</td>\n",
       "      <td>Comedies, Horror Movies</td>\n",
       "      <td>Looking to survive in a world taken over by zo...</td>\n",
       "    </tr>\n",
       "    <tr>\n",
       "      <th>8805</th>\n",
       "      <td>5331</td>\n",
       "      <td>Movie</td>\n",
       "      <td>Zoom</td>\n",
       "      <td>Peter Hewitt</td>\n",
       "      <td>Tim Allen, Courteney Cox, Chevy Chase, Kate Ma...</td>\n",
       "      <td>United States</td>\n",
       "      <td>January 11, 2020</td>\n",
       "      <td>2006</td>\n",
       "      <td>PG</td>\n",
       "      <td>88 min</td>\n",
       "      <td>Children &amp; Family Movies, Comedies</td>\n",
       "      <td>Dragged from civilian life, a former superhero...</td>\n",
       "    </tr>\n",
       "  </tbody>\n",
       "</table>\n",
       "<p>1826 rows × 12 columns</p>\n",
       "</div>"
      ],
      "text/plain": [
       "      show_id   type                 title          director  \\\n",
       "9           3  Movie          The Starling    Theodore Melfi   \n",
       "27          6  Movie             Grown Ups      Dennis Dugan   \n",
       "28          7  Movie            Dark Skies     Scott Stewart   \n",
       "41         10  Movie                  Jaws  Steven Spielberg   \n",
       "42         11  Movie                Jaws 2    Jeannot Szwarc   \n",
       "...       ...    ...                   ...               ...   \n",
       "8791     5322  Movie           Young Adult     Jason Reitman   \n",
       "8793     5324  Movie  Yours, Mine and Ours      Raja Gosnell   \n",
       "8802     5329  Movie                Zodiac     David Fincher   \n",
       "8804     5330  Movie            Zombieland   Ruben Fleischer   \n",
       "8805     5331  Movie                  Zoom      Peter Hewitt   \n",
       "\n",
       "                                                   cast        country  \\\n",
       "9     Melissa McCarthy, Chris O'Dowd, Kevin Kline, T...  United States   \n",
       "27    Adam Sandler, Kevin James, Chris Rock, David S...  United States   \n",
       "28    Keri Russell, Josh Hamilton, J.K. Simmons, Dak...  United States   \n",
       "41    Roy Scheider, Robert Shaw, Richard Dreyfuss, L...  United States   \n",
       "42    Roy Scheider, Lorraine Gary, Murray Hamilton, ...  United States   \n",
       "...                                                 ...            ...   \n",
       "8791  Charlize Theron, Patton Oswalt, Patrick Wilson...  United States   \n",
       "8793  Dennis Quaid, Rene Russo, Sean Faris, Katija P...  United States   \n",
       "8802  Mark Ruffalo, Jake Gyllenhaal, Robert Downey J...  United States   \n",
       "8804  Jesse Eisenberg, Woody Harrelson, Emma Stone, ...  United States   \n",
       "8805  Tim Allen, Courteney Cox, Chevy Chase, Kate Ma...  United States   \n",
       "\n",
       "              date_added  release_year rating duration  \\\n",
       "9     September 24, 2021          2021  PG-13  104 min   \n",
       "27    September 20, 2021          2010  PG-13  103 min   \n",
       "28    September 19, 2021          2013  PG-13   97 min   \n",
       "41    September 16, 2021          1975     PG  124 min   \n",
       "42    September 16, 2021          1978     PG  116 min   \n",
       "...                  ...           ...    ...      ...   \n",
       "8791   November 20, 2019          2011      R   94 min   \n",
       "8793   November 20, 2019          2005     PG   88 min   \n",
       "8802   November 20, 2019          2007      R  158 min   \n",
       "8804    November 1, 2019          2009      R   88 min   \n",
       "8805    January 11, 2020          2006     PG   88 min   \n",
       "\n",
       "                                       listed_in  \\\n",
       "9                               Comedies, Dramas   \n",
       "27                                      Comedies   \n",
       "28               Horror Movies, Sci-Fi & Fantasy   \n",
       "41    Action & Adventure, Classic Movies, Dramas   \n",
       "42              Dramas, Horror Movies, Thrillers   \n",
       "...                                          ...   \n",
       "8791        Comedies, Dramas, Independent Movies   \n",
       "8793          Children & Family Movies, Comedies   \n",
       "8802              Cult Movies, Dramas, Thrillers   \n",
       "8804                     Comedies, Horror Movies   \n",
       "8805          Children & Family Movies, Comedies   \n",
       "\n",
       "                                            description  \n",
       "9     A woman adjusting to life after a loss contend...  \n",
       "27    Mourning the loss of their beloved junior high...  \n",
       "28    A family’s idyllic suburban life shatters when...  \n",
       "41    When an insatiable great white shark terrorize...  \n",
       "42    Four years after the last deadly shark attacks...  \n",
       "...                                                 ...  \n",
       "8791  When a divorced writer gets a letter from an o...  \n",
       "8793  When a father of eight and a mother of 10 prep...  \n",
       "8802  A political cartoonist, a crime reporter and a...  \n",
       "8804  Looking to survive in a world taken over by zo...  \n",
       "8805  Dragged from civilian life, a former superhero...  \n",
       "\n",
       "[1826 rows x 12 columns]"
      ]
     },
     "execution_count": 51,
     "metadata": {},
     "output_type": "execute_result"
    }
   ],
   "source": [
    "df[(df['type'] == 'Movie') & (df['country'] == 'United States') | (df['type'] == 'TV Show') & (df['country'] == 'India')]"
   ]
  },
  {
   "cell_type": "code",
   "execution_count": 52,
   "id": "513e3ce5",
   "metadata": {},
   "outputs": [],
   "source": [
    "#Relationship Between Duration and Type"
   ]
  },
  {
   "cell_type": "code",
   "execution_count": 53,
   "id": "6bc58726",
   "metadata": {},
   "outputs": [
    {
     "data": {
      "image/png": "[encoded data removed]",
      "text/plain": [
       "<Figure size 640x480 with 1 Axes>"
      ]
     },
     "metadata": {},
     "output_type": "display_data"
    }
   ],
   "source": [
    "df['duration_clean'] = df['duration'].str.extract('(\\d+)').astype(int)\n",
    "sns.boxplot(x='type', y=df['duration_clean'], data=df)\n",
    "plt.title('Duration by Content Type')\n",
    "plt.xlabel('Show Type')\n",
    "plt.ylabel('Total Duration')\n",
    "plt.show()"
   ]
  },
  {
   "cell_type": "code",
   "execution_count": 54,
   "id": "4f094ada",
   "metadata": {},
   "outputs": [],
   "source": [
    "#Most Common Duration Range"
   ]
  },
  {
   "cell_type": "code",
   "execution_count": 55,
   "id": "e6a9eeff",
   "metadata": {},
   "outputs": [
    {
     "data": {
      "image/png": "[encoded data removed]",
      "text/plain": [
       "<Figure size 640x480 with 1 Axes>"
      ]
     },
     "metadata": {},
     "output_type": "display_data"
    }
   ],
   "source": [
    "df['duration_range'] = pd.cut(df['duration_clean'], bins=[0, 30, 60, 90, 120, 200], labels=['0-30', '30-60', '60-90', '90-120', '120+'])\n",
    "df['duration_range'].value_counts().sort_index().plot(kind='bar', color='purple', title='Content by Duration Range')\n",
    "plt.xlabel('Duration Range (min)')\n",
    "plt.ylabel('Count')\n",
    "plt.show()"
   ]
  },
  {
   "cell_type": "markdown",
   "id": "14712a1d",
   "metadata": {},
   "source": [
    "### Predictions on Data"
   ]
  },
  {
   "cell_type": "code",
   "execution_count": 84,
   "id": "502a381c",
   "metadata": {},
   "outputs": [],
   "source": [
    "#Finding Correlation between dataset"
   ]
  },
  {
   "cell_type": "code",
   "execution_count": 83,
   "id": "b7c05ac2",
   "metadata": {},
   "outputs": [
    {
     "data": {
      "image/png": "[encoded data removed]",
      "text/plain": [
       "<Figure size 1000x600 with 2 Axes>"
      ]
     },
     "metadata": {},
     "output_type": "display_data"
    }
   ],
   "source": [
    "numeric_df = df.select_dtypes(include=['number'])\n",
    "\n",
    "correlation_matrix = numeric_df.corr()\n",
    "\n",
    "plt.figure(figsize=(10, 6))\n",
    "sns.heatmap(correlation_matrix, annot=True, cmap=\"coolwarm\")\n",
    "plt.title(\"Correlation Matrix\")\n",
    "plt.show()"
   ]
  },
  {
   "cell_type": "code",
   "execution_count": 60,
   "id": "7795c80e",
   "metadata": {},
   "outputs": [],
   "source": [
    "#Predicting duration Based on Content Type"
   ]
  },
  {
   "cell_type": "code",
   "execution_count": 61,
   "id": "4ca28fdd",
   "metadata": {},
   "outputs": [
    {
     "name": "stdout",
     "output_type": "stream",
     "text": [
      "Mean Predicted Duration: 99.27 minutes\n"
     ]
    }
   ],
   "source": [
    "from sklearn.linear_model import LinearRegression\n",
    "\n",
    "X = df[['type_encoded']]  \n",
    "y = df['duration_clean']  \n",
    "\n",
    "X_train, X_test, y_train, y_test = train_test_split(x, y, test_size=0.2, random_state=40)\n",
    "reg_model = LinearRegression()\n",
    "reg_model.fit(X_train, y_train)\n",
    "\n",
    "y_pred = reg_model.predict(X_test)\n",
    "print(f\"Mean Predicted Duration: {y_pred.mean():.2f} minutes\")"
   ]
  },
  {
   "cell_type": "markdown",
   "id": "1d0726e9",
   "metadata": {},
   "source": [
    "### Some Insights from Dataset\n",
    "1.The final Dataset after Cleaning has 5332  rows and 12 columns<br>\n",
    "2.The most Number of Movies were released in year 2017<br>\n",
    "3.Their are total 5185 Movies and 147 TV shows<br>\n",
    "4.The Director who has given most number of movies is Raúl Campos, Jan Suter<br>\n",
    "5.The Actor who has acted in most number of movies is Samuel West<br>\n",
    "6.The total Number of TV Shows released in India is 7<br>\n",
    "7.The total Number of Movies released in India is 868<br>\n",
    "8.Most of the Movies have rating TV-MA<br>\n",
    "9.Maximum Movie Duration is 253 minutes and Maximum Show Duration is 15 seasons<br>\n",
    "10.The country with most number of TV Shows and movies is United States of America<br>\n",
    "11.The most Common Duration of Movies is 90-120 Minutes<br>\n",
    "12.Mean Predicted Duration is 99.27 Minutes"
   ]
  },
  {
   "cell_type": "markdown",
   "id": "3603d87f",
   "metadata": {},
   "source": [
    "### Conclusion:\n",
    "By utilizing the Netflix dataset, data analysis can empower the company to make informed decisions, adapt to global market demands, and continuously refine its offerings to maintain its leadership in the streaming industry."
   ]
  }
 ],
 "metadata": {
  "kernelspec": {
   "display_name": "Python 3 (ipykernel)",
   "language": "python",
   "name": "python3"
  },
  "language_info": {
   "codemirror_mode": {
    "name": "ipython",
    "version": 3
   },
   "file_extension": ".py",
   "mimetype": "text/x-python",
   "name": "python",
   "nbconvert_exporter": "python",
   "pygments_lexer": "ipython3",
   "version": "3.11.5"
  }
 },
 "nbformat": 4,
 "nbformat_minor": 5
}
